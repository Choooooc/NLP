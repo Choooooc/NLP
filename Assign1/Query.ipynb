{
 "cells": [
  {
   "cell_type": "code",
   "execution_count": 4,
   "outputs": [],
   "source": [
    "import nltk\n",
    "import numpy as np\n",
    "import pandas as pd\n",
    "import pickle\n",
    "import pprint\n",
    "import project_helper\n",
    "import project_tests\n",
    "from tqdm import tqdm\n",
    "from selenium import webdriver\n",
    "from selenium.webdriver.edge.service import Service as EdgeService\n",
    "from webdriver_manager.microsoft import EdgeChromiumDriverManager\n",
    "from selenium.webdriver.common.by import By\n",
    "from bs4 import BeautifulSoup\n",
    "import requests\n"
   ],
   "metadata": {
    "collapsed": false,
    "pycharm": {
     "name": "#%%\n"
    }
   }
  },
  {
   "cell_type": "code",
   "execution_count": 5,
   "metadata": {
    "collapsed": true
   },
   "outputs": [
    {
     "name": "stdout",
     "output_type": "stream",
     "text": [
      "Request Successful\n",
      "https://www.sec.gov/cgi-bin/browse-edgar?action=getcompany&CIK=0001018724&type=10-k&dateb=20190101&owner=exclude&start=&output=&count=100\n"
     ]
    }
   ],
   "source": [
    "# base URL for the SEC EDGAR browser\n",
    "HEADER = {'Host': 'www.sec.gov', 'Connection': 'close',\n",
    "          'Accept': 'application/json, text/javascript, */*; q=0.01',\n",
    "          'X-Requested-With': 'XMLHttpRequest',\n",
    "          'User-Agent': 'ruizhuoj@andrew.cmu.edu'\n",
    "         }\n",
    "endpoint = r\"https://www.sec.gov/cgi-bin/browse-edgar\"\n",
    "\n",
    "# cik_lookup = {\n",
    "#     'AMZN': '0001018724', }\n",
    "# # 'BMY': '0000014272',\n",
    "# # 'CNP': '0001130310',\n",
    "# # 'CVX': '0000093410',\n",
    "# # 'FL': '0000850209',\n",
    "# # 'FRT': '0000034903',\n",
    "# # 'HON': '0000773840'}\n",
    "# define our parameters dictionary\n",
    "param_dict = {'action':'getcompany',\n",
    "              'CIK':'0001018724',\n",
    "              'type':'10-k',\n",
    "              'dateb':'20220101',\n",
    "              'owner':'exclude',\n",
    "              'start':'95',\n",
    "              'output':'',\n",
    "              'count':'100'}\n",
    "\n",
    "# request the url, and then parse the response.\n",
    "response = requests.get(url = endpoint, params = param_dict, headers=HEADER)\n",
    "soup = BeautifulSoup(response.content, 'html.parser')\n",
    "\n",
    "# Let the user know it was successful.\n",
    "print('Request Successful')\n",
    "print(response.url)"
   ]
  },
  {
   "cell_type": "code",
   "execution_count": 6,
   "outputs": [
    {
     "name": "stdout",
     "output_type": "stream",
     "text": [
      "----------------------------------------------------------------------------------------------------\n",
      "Filing Type: 10-K\n",
      "Filing Date: 2018-02-02\n",
      "Filing Number: 000-2251318568399\n",
      "Document Link: https://www.sec.gov/Archives/edgar/data/1018724/000101872418000005/0001018724-18-000005-index.htm\n",
      "----------------------------------------------------------------------------------------------------\n",
      "Filing Type: 10-K\n",
      "Filing Date: 2017-02-10\n",
      "Filing Number: 000-2251317588807\n",
      "Document Link: https://www.sec.gov/Archives/edgar/data/1018724/000101872417000011/0001018724-17-000011-index.htm\n",
      "----------------------------------------------------------------------------------------------------\n",
      "Filing Type: 10-K\n",
      "Filing Date: 2016-01-29\n",
      "Filing Number: 000-22513161370623\n",
      "Document Link: https://www.sec.gov/Archives/edgar/data/1018724/000101872416000172/0001018724-16-000172-index.htm\n",
      "----------------------------------------------------------------------------------------------------\n",
      "Filing Type: 10-K\n",
      "Filing Date: 2015-01-30\n",
      "Filing Number: 000-2251315560475\n",
      "Document Link: https://www.sec.gov/Archives/edgar/data/1018724/000101872415000006/0001018724-15-000006-index.htm\n",
      "----------------------------------------------------------------------------------------------------\n",
      "Filing Type: 10-K\n",
      "Filing Date: 2014-01-31\n",
      "Filing Number: 000-2251314562606\n",
      "Document Link: https://www.sec.gov/Archives/edgar/data/1018724/000101872414000006/0001018724-14-000006-index.htm\n",
      "----------------------------------------------------------------------------------------------------\n",
      "Filing Type: 10-K\n",
      "Filing Date: 2013-01-30\n",
      "Filing Number: 000-2251313556668\n",
      "Document Link: https://www.sec.gov/Archives/edgar/data/1018724/000119312513028520/0001193125-13-028520-index.htm\n",
      "----------------------------------------------------------------------------------------------------\n",
      "Filing Type: 10-K\n",
      "Filing Date: 2012-02-01\n",
      "Filing Number: 000-2251312560909\n",
      "Document Link: https://www.sec.gov/Archives/edgar/data/1018724/000119312512032846/0001193125-12-032846-index.htm\n",
      "----------------------------------------------------------------------------------------------------\n",
      "Filing Type: 10-K/A\n",
      "Filing Date: 2011-02-28\n",
      "Filing Number: 000-2251311647141\n",
      "Document Link: https://www.sec.gov/Archives/edgar/data/1018724/000119312511050136/0001193125-11-050136-index.htm\n",
      "----------------------------------------------------------------------------------------------------\n",
      "Filing Type: 10-K\n",
      "Filing Date: 2011-01-28\n",
      "Filing Number: 000-2251311553423\n",
      "Document Link: https://www.sec.gov/Archives/edgar/data/1018724/000119312511016253/0001193125-11-016253-index.htm\n",
      "----------------------------------------------------------------------------------------------------\n",
      "Filing Type: 10-K\n",
      "Filing Date: 2010-01-29\n",
      "Filing Number: 000-2251310555478\n",
      "Document Link: https://www.sec.gov/Archives/edgar/data/1018724/000119312510016098/0001193125-10-016098-index.htm\n",
      "----------------------------------------------------------------------------------------------------\n",
      "Filing Type: 10-K\n",
      "Filing Date: 2009-01-30\n",
      "Filing Number: 000-2251309555685\n",
      "Document Link: https://www.sec.gov/Archives/edgar/data/1018724/000119312509014406/0001193125-09-014406-index.htm\n",
      "----------------------------------------------------------------------------------------------------\n",
      "Filing Type: 10-K\n",
      "Filing Date: 2008-02-11\n",
      "Filing Number: 000-2251308590963\n",
      "Document Link: https://www.sec.gov/Archives/edgar/data/1018724/000119312508024707/0001193125-08-024707-index.htm\n",
      "----------------------------------------------------------------------------------------------------\n",
      "Filing Type: 10-K\n",
      "Filing Date: 2007-02-16\n",
      "Filing Number: 000-2251307631507\n",
      "Document Link: https://www.sec.gov/Archives/edgar/data/1018724/000119312507034081/0001193125-07-034081-index.htm\n",
      "----------------------------------------------------------------------------------------------------\n",
      "Filing Type: 10-K\n",
      "Filing Date: 2006-02-17\n",
      "Filing Number: 000-2251306627256\n",
      "Document Link: https://www.sec.gov/Archives/edgar/data/1018724/000119312506034166/0001193125-06-034166-index.htm\n",
      "----------------------------------------------------------------------------------------------------\n",
      "Filing Type: 10-K\n",
      "Filing Date: 2005-03-11\n",
      "Filing Number: 000-2251305673873\n",
      "Document Link: https://www.sec.gov/Archives/edgar/data/1018724/000119312505047032/0001193125-05-047032-index.htm\n",
      "----------------------------------------------------------------------------------------------------\n",
      "Filing Type: 10-K\n",
      "Filing Date: 2004-02-25\n",
      "Filing Number: 000-2251304628328\n",
      "Document Link: https://www.sec.gov/Archives/edgar/data/1018724/000119312504029488/0001193125-04-029488-index.htm\n",
      "----------------------------------------------------------------------------------------------------\n",
      "Filing Type: 10-K\n",
      "Filing Date: 2003-02-19\n",
      "Filing Number: 000-2251303571704\n",
      "Document Link: https://www.sec.gov/Archives/edgar/data/1018724/000095014903000355/0000950149-03-000355-index.htm\n",
      "----------------------------------------------------------------------------------------------------\n",
      "Filing Type: 10-K405\n",
      "Filing Date: 2002-01-24\n",
      "Filing Number: 000-2251302516630\n",
      "Document Link: https://www.sec.gov/Archives/edgar/data/1018724/000103221002000059/0001032210-02-000059-index.htm\n",
      "----------------------------------------------------------------------------------------------------\n",
      "Filing Type: 10-K405\n",
      "Filing Date: 2001-03-23\n",
      "Filing Number: 000-225131576905\n",
      "Document Link: https://www.sec.gov/Archives/edgar/data/1018724/000103221001500087/0001032210-01-500087-index.htm\n",
      "----------------------------------------------------------------------------------------------------\n",
      "Filing Type: 10-K/A\n",
      "Filing Date: 2000-09-08\n",
      "Filing Number: 000-22513719714\n",
      "Document Link: https://www.sec.gov/Archives/edgar/data/1018724/000089102000001638/0000891020-00-001638-index.htm\n",
      "----------------------------------------------------------------------------------------------------\n",
      "Filing Type: 10-K\n",
      "Filing Date: 2000-03-29\n",
      "Filing Number: 000-22513581792\n",
      "Document Link: https://www.sec.gov/Archives/edgar/data/1018724/0000891020-00-000622-index.html\n",
      "----------------------------------------------------------------------------------------------------\n",
      "Filing Type: 10-K\n",
      "Filing Date: 1999-03-05\n",
      "Filing Number: 000-2251399557475\n",
      "Document Link: https://www.sec.gov/Archives/edgar/data/1018724/0000891020-99-000375-index.html\n",
      "----------------------------------------------------------------------------------------------------\n",
      "Filing Type: 10-K405\n",
      "Filing Date: 1998-03-30\n",
      "Filing Number: 000-2251398577583\n",
      "Document Link: https://www.sec.gov/Archives/edgar/data/1018724/0000891020-98-000448-index.html\n"
     ]
    }
   ],
   "source": [
    "doc_table = soup.find_all('table', class_='tableFile2')\n",
    "\n",
    "# define a base url that will be used for link building.\n",
    "base_url_sec = r\"https://www.sec.gov\"\n",
    "\n",
    "master_list = []\n",
    "\n",
    "# loop through each row in the table.\n",
    "for row in doc_table[0].find_all('tr'):\n",
    "\n",
    "    # find all the columns\n",
    "    cols = row.find_all('td')\n",
    "\n",
    "    # if there are no columns move on to the next row.\n",
    "    if len(cols) != 0:\n",
    "\n",
    "        # grab the text\n",
    "        filing_type = cols[0].text.strip()\n",
    "        filing_date = cols[3].text.strip()\n",
    "        filing_numb = cols[4].text.strip()\n",
    "\n",
    "        # find the links\n",
    "        filing_doc_href = cols[1].find('a', {'href':True, 'id':'documentsbutton'})\n",
    "        filing_int_href = cols[1].find('a', {'href':True, 'id':'interactiveDataBtn'})\n",
    "        filing_num_href = cols[4].find('a')\n",
    "\n",
    "        # grab the the first href\n",
    "        if filing_doc_href != None:\n",
    "            filing_doc_link = base_url_sec + filing_doc_href['href']\n",
    "        else:\n",
    "            filing_doc_link = 'no link'\n",
    "        # create and store data in the dictionary\n",
    "        file_dict = {}\n",
    "        file_dict['file_type'] = filing_type\n",
    "        file_dict['file_date'] = filing_date\n",
    "        file_dict['links'] = {}\n",
    "        file_dict['links']['documents'] = filing_doc_link\n",
    "        # let the user know it's working\n",
    "        print('-'*100)\n",
    "        print(\"Filing Type: \" + filing_type)\n",
    "        print(\"Filing Date: \" + filing_date)\n",
    "        print(\"Filing Number: \" + filing_numb)\n",
    "        print(\"Document Link: \" + filing_doc_link)\n",
    "\n",
    "        # append dictionary to master list\n",
    "        master_list.append(file_dict)"
   ],
   "metadata": {
    "collapsed": false,
    "pycharm": {
     "name": "#%%\n"
    }
   }
  },
  {
   "cell_type": "code",
   "execution_count": 9,
   "outputs": [
    {
     "name": "stdout",
     "output_type": "stream",
     "text": [
      "{'documents': 'https://www.sec.gov/Archives/edgar/data/1018724/000101872418000005/0001018724-18-000005-index.htm'}\n"
     ]
    }
   ],
   "source": [
    "print(master_list[0]['links'])"
   ],
   "metadata": {
    "collapsed": false,
    "pycharm": {
     "name": "#%%\n"
    }
   }
  }
 ],
 "metadata": {
  "kernelspec": {
   "name": "myenv",
   "language": "python",
   "display_name": "Python (base)"
  },
  "language_info": {
   "codemirror_mode": {
    "name": "ipython",
    "version": 2
   },
   "file_extension": ".py",
   "mimetype": "text/x-python",
   "name": "python",
   "nbconvert_exporter": "python",
   "pygments_lexer": "ipython2",
   "version": "2.7.6"
  }
 },
 "nbformat": 4,
 "nbformat_minor": 0
}