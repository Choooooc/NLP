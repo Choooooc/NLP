{
 "cells": [
  {
   "cell_type": "markdown",
   "metadata": {},
   "source": [
    "### Load Packages"
   ]
  },
  {
   "cell_type": "code",
   "execution_count": 42,
   "metadata": {
    "pycharm": {
     "name": "#%%\n"
    }
   },
   "outputs": [],
   "source": [
    "import nltk\n",
    "import numpy as np\n",
    "import pandas as pd\n",
    "import pickle\n",
    "import pprint\n",
    "import project_helper\n",
    "import project_tests\n",
    "from tqdm import tqdm\n",
    "from selenium import webdriver\n",
    "from selenium.webdriver.edge.service import Service as EdgeService\n",
    "from webdriver_manager.microsoft import EdgeChromiumDriverManager\n",
    "from selenium.webdriver.common.by import By\n",
    "from datetime import datetime\n",
    "from selenium.webdriver import EdgeOptions\n",
    "from parser_10KQ import get_word_list\n",
    "from parser_10KQ import lemmatize_words\n",
    "from itertools import islice\n",
    "# options = EdgeOptions()\n",
    "# options.add_argument(\"--headless\")\n",
    "# options.add_argument(\"--window-size=%s\" % \"3840, 2160\")"
   ]
  },
  {
   "cell_type": "code",
   "execution_count": 28,
   "metadata": {
    "pycharm": {
     "name": "#%%\n"
    }
   },
   "outputs": [],
   "source": [
    "with open('fillings_by_ticker 1', 'rb') as handle:\n",
    "    fillings_by_ticker = pickle.load(handle)"
   ]
  },
  {
   "cell_type": "code",
   "execution_count": 4,
   "metadata": {},
   "outputs": [],
   "source": [
    "with open('filling_lem', 'rb') as handle:\n",
    "    filling_lem = pickle.load(handle)"
   ]
  },
  {
   "cell_type": "code",
   "execution_count": 28,
   "metadata": {},
   "outputs": [],
   "source": [
    "sentiment_df = pd.read_csv('Loughran-McDonald_MasterDictionary_1993-2021.csv')\n",
    "sentiment_df.columns = [column.lower() for column in sentiment_df.columns]"
   ]
  },
  {
   "cell_type": "code",
   "execution_count": 136,
   "metadata": {},
   "outputs": [
    {
     "data": {
      "text/html": [
       "<div>\n",
       "<style scoped>\n",
       "    .dataframe tbody tr th:only-of-type {\n",
       "        vertical-align: middle;\n",
       "    }\n",
       "\n",
       "    .dataframe tbody tr th {\n",
       "        vertical-align: top;\n",
       "    }\n",
       "\n",
       "    .dataframe thead th {\n",
       "        text-align: right;\n",
       "    }\n",
       "</style>\n",
       "<table border=\"1\" class=\"dataframe\">\n",
       "  <thead>\n",
       "    <tr style=\"text-align: right;\">\n",
       "      <th></th>\n",
       "      <th>word</th>\n",
       "      <th>seq_num</th>\n",
       "      <th>word count</th>\n",
       "      <th>word proportion</th>\n",
       "      <th>average proportion</th>\n",
       "      <th>std dev</th>\n",
       "      <th>doc count</th>\n",
       "      <th>negative</th>\n",
       "      <th>positive</th>\n",
       "      <th>uncertainty</th>\n",
       "      <th>litigious</th>\n",
       "      <th>strong_modal</th>\n",
       "      <th>weak_modal</th>\n",
       "      <th>constraining</th>\n",
       "      <th>syllables</th>\n",
       "      <th>source</th>\n",
       "    </tr>\n",
       "  </thead>\n",
       "  <tbody>\n",
       "    <tr>\n",
       "      <th>0</th>\n",
       "      <td>AARDVARK</td>\n",
       "      <td>1</td>\n",
       "      <td>354</td>\n",
       "      <td>0.00000002</td>\n",
       "      <td>0.00000001</td>\n",
       "      <td>0.00000382</td>\n",
       "      <td>99</td>\n",
       "      <td>0</td>\n",
       "      <td>0</td>\n",
       "      <td>0</td>\n",
       "      <td>0</td>\n",
       "      <td>0</td>\n",
       "      <td>0</td>\n",
       "      <td>0</td>\n",
       "      <td>2</td>\n",
       "      <td>12of12inf</td>\n",
       "    </tr>\n",
       "    <tr>\n",
       "      <th>1</th>\n",
       "      <td>AARDVARKS</td>\n",
       "      <td>2</td>\n",
       "      <td>3</td>\n",
       "      <td>0.00000000</td>\n",
       "      <td>0.00000000</td>\n",
       "      <td>0.00000001</td>\n",
       "      <td>1</td>\n",
       "      <td>0</td>\n",
       "      <td>0</td>\n",
       "      <td>0</td>\n",
       "      <td>0</td>\n",
       "      <td>0</td>\n",
       "      <td>0</td>\n",
       "      <td>0</td>\n",
       "      <td>2</td>\n",
       "      <td>12of12inf</td>\n",
       "    </tr>\n",
       "    <tr>\n",
       "      <th>2</th>\n",
       "      <td>ABACI</td>\n",
       "      <td>3</td>\n",
       "      <td>9</td>\n",
       "      <td>0.00000000</td>\n",
       "      <td>0.00000000</td>\n",
       "      <td>0.00000005</td>\n",
       "      <td>7</td>\n",
       "      <td>0</td>\n",
       "      <td>0</td>\n",
       "      <td>0</td>\n",
       "      <td>0</td>\n",
       "      <td>0</td>\n",
       "      <td>0</td>\n",
       "      <td>0</td>\n",
       "      <td>3</td>\n",
       "      <td>12of12inf</td>\n",
       "    </tr>\n",
       "    <tr>\n",
       "      <th>3</th>\n",
       "      <td>ABACK</td>\n",
       "      <td>4</td>\n",
       "      <td>29</td>\n",
       "      <td>0.00000000</td>\n",
       "      <td>0.00000000</td>\n",
       "      <td>0.00000016</td>\n",
       "      <td>28</td>\n",
       "      <td>0</td>\n",
       "      <td>0</td>\n",
       "      <td>0</td>\n",
       "      <td>0</td>\n",
       "      <td>0</td>\n",
       "      <td>0</td>\n",
       "      <td>0</td>\n",
       "      <td>2</td>\n",
       "      <td>12of12inf</td>\n",
       "    </tr>\n",
       "    <tr>\n",
       "      <th>4</th>\n",
       "      <td>ABACUS</td>\n",
       "      <td>5</td>\n",
       "      <td>8570</td>\n",
       "      <td>0.00000038</td>\n",
       "      <td>0.00000038</td>\n",
       "      <td>0.00003529</td>\n",
       "      <td>1108</td>\n",
       "      <td>0</td>\n",
       "      <td>0</td>\n",
       "      <td>0</td>\n",
       "      <td>0</td>\n",
       "      <td>0</td>\n",
       "      <td>0</td>\n",
       "      <td>0</td>\n",
       "      <td>3</td>\n",
       "      <td>12of12inf</td>\n",
       "    </tr>\n",
       "    <tr>\n",
       "      <th>...</th>\n",
       "      <td>...</td>\n",
       "      <td>...</td>\n",
       "      <td>...</td>\n",
       "      <td>...</td>\n",
       "      <td>...</td>\n",
       "      <td>...</td>\n",
       "      <td>...</td>\n",
       "      <td>...</td>\n",
       "      <td>...</td>\n",
       "      <td>...</td>\n",
       "      <td>...</td>\n",
       "      <td>...</td>\n",
       "      <td>...</td>\n",
       "      <td>...</td>\n",
       "      <td>...</td>\n",
       "      <td>...</td>\n",
       "    </tr>\n",
       "    <tr>\n",
       "      <th>86526</th>\n",
       "      <td>ZYGOTE</td>\n",
       "      <td>86529</td>\n",
       "      <td>50</td>\n",
       "      <td>0.00000000</td>\n",
       "      <td>0.00000000</td>\n",
       "      <td>0.00000019</td>\n",
       "      <td>35</td>\n",
       "      <td>0</td>\n",
       "      <td>0</td>\n",
       "      <td>0</td>\n",
       "      <td>0</td>\n",
       "      <td>0</td>\n",
       "      <td>0</td>\n",
       "      <td>0</td>\n",
       "      <td>2</td>\n",
       "      <td>12of12inf</td>\n",
       "    </tr>\n",
       "    <tr>\n",
       "      <th>86527</th>\n",
       "      <td>ZYGOTES</td>\n",
       "      <td>86530</td>\n",
       "      <td>1</td>\n",
       "      <td>0.00000000</td>\n",
       "      <td>0.00000000</td>\n",
       "      <td>0.00000002</td>\n",
       "      <td>1</td>\n",
       "      <td>0</td>\n",
       "      <td>0</td>\n",
       "      <td>0</td>\n",
       "      <td>0</td>\n",
       "      <td>0</td>\n",
       "      <td>0</td>\n",
       "      <td>0</td>\n",
       "      <td>2</td>\n",
       "      <td>12of12inf</td>\n",
       "    </tr>\n",
       "    <tr>\n",
       "      <th>86528</th>\n",
       "      <td>ZYGOTIC</td>\n",
       "      <td>86531</td>\n",
       "      <td>0</td>\n",
       "      <td>0.00000000</td>\n",
       "      <td>0.00000000</td>\n",
       "      <td>0.00000000</td>\n",
       "      <td>0</td>\n",
       "      <td>0</td>\n",
       "      <td>0</td>\n",
       "      <td>0</td>\n",
       "      <td>0</td>\n",
       "      <td>0</td>\n",
       "      <td>0</td>\n",
       "      <td>0</td>\n",
       "      <td>3</td>\n",
       "      <td>12of12inf</td>\n",
       "    </tr>\n",
       "    <tr>\n",
       "      <th>86529</th>\n",
       "      <td>ZYMURGIES</td>\n",
       "      <td>86532</td>\n",
       "      <td>0</td>\n",
       "      <td>0.00000000</td>\n",
       "      <td>0.00000000</td>\n",
       "      <td>0.00000000</td>\n",
       "      <td>0</td>\n",
       "      <td>0</td>\n",
       "      <td>0</td>\n",
       "      <td>0</td>\n",
       "      <td>0</td>\n",
       "      <td>0</td>\n",
       "      <td>0</td>\n",
       "      <td>0</td>\n",
       "      <td>3</td>\n",
       "      <td>12of12inf</td>\n",
       "    </tr>\n",
       "    <tr>\n",
       "      <th>86530</th>\n",
       "      <td>ZYMURGY</td>\n",
       "      <td>86533</td>\n",
       "      <td>0</td>\n",
       "      <td>0.00000000</td>\n",
       "      <td>0.00000000</td>\n",
       "      <td>0.00000000</td>\n",
       "      <td>0</td>\n",
       "      <td>0</td>\n",
       "      <td>0</td>\n",
       "      <td>0</td>\n",
       "      <td>0</td>\n",
       "      <td>0</td>\n",
       "      <td>0</td>\n",
       "      <td>0</td>\n",
       "      <td>3</td>\n",
       "      <td>12of12inf</td>\n",
       "    </tr>\n",
       "  </tbody>\n",
       "</table>\n",
       "<p>86531 rows × 16 columns</p>\n",
       "</div>"
      ],
      "text/plain": [
       "            word  seq_num  word count  word proportion  average proportion  \\\n",
       "0       AARDVARK        1         354       0.00000002          0.00000001   \n",
       "1      AARDVARKS        2           3       0.00000000          0.00000000   \n",
       "2          ABACI        3           9       0.00000000          0.00000000   \n",
       "3          ABACK        4          29       0.00000000          0.00000000   \n",
       "4         ABACUS        5        8570       0.00000038          0.00000038   \n",
       "...          ...      ...         ...              ...                 ...   \n",
       "86526     ZYGOTE    86529          50       0.00000000          0.00000000   \n",
       "86527    ZYGOTES    86530           1       0.00000000          0.00000000   \n",
       "86528    ZYGOTIC    86531           0       0.00000000          0.00000000   \n",
       "86529  ZYMURGIES    86532           0       0.00000000          0.00000000   \n",
       "86530    ZYMURGY    86533           0       0.00000000          0.00000000   \n",
       "\n",
       "         std dev  doc count  negative  positive  uncertainty  litigious  \\\n",
       "0     0.00000382         99         0         0            0          0   \n",
       "1     0.00000001          1         0         0            0          0   \n",
       "2     0.00000005          7         0         0            0          0   \n",
       "3     0.00000016         28         0         0            0          0   \n",
       "4     0.00003529       1108         0         0            0          0   \n",
       "...          ...        ...       ...       ...          ...        ...   \n",
       "86526 0.00000019         35         0         0            0          0   \n",
       "86527 0.00000002          1         0         0            0          0   \n",
       "86528 0.00000000          0         0         0            0          0   \n",
       "86529 0.00000000          0         0         0            0          0   \n",
       "86530 0.00000000          0         0         0            0          0   \n",
       "\n",
       "       strong_modal  weak_modal  constraining  syllables     source  \n",
       "0                 0           0             0          2  12of12inf  \n",
       "1                 0           0             0          2  12of12inf  \n",
       "2                 0           0             0          3  12of12inf  \n",
       "3                 0           0             0          2  12of12inf  \n",
       "4                 0           0             0          3  12of12inf  \n",
       "...             ...         ...           ...        ...        ...  \n",
       "86526             0           0             0          2  12of12inf  \n",
       "86527             0           0             0          2  12of12inf  \n",
       "86528             0           0             0          3  12of12inf  \n",
       "86529             0           0             0          3  12of12inf  \n",
       "86530             0           0             0          3  12of12inf  \n",
       "\n",
       "[86531 rows x 16 columns]"
      ]
     },
     "execution_count": 136,
     "metadata": {},
     "output_type": "execute_result"
    }
   ],
   "source": [
    "sentiment_df"
   ]
  },
  {
   "cell_type": "code",
   "execution_count": 50,
   "metadata": {},
   "outputs": [],
   "source": [
    "sentiment_neg = sentiment_df[['word']][sentiment_df[\"negative\"]>0]"
   ]
  },
  {
   "cell_type": "code",
   "execution_count": 62,
   "metadata": {},
   "outputs": [],
   "source": [
    "sentiment_neg['word'] = lemmatize_words(sentiment_neg['word'].str.lower())\n",
    "sentiment_neg = sentiment_neg.drop_duplicates('word')"
   ]
  },
  {
   "cell_type": "code",
   "execution_count": 64,
   "metadata": {},
   "outputs": [],
   "source": [
    "word_list = sentiment_neg['word'].str.lower().values"
   ]
  },
  {
   "cell_type": "code",
   "execution_count": 165,
   "metadata": {},
   "outputs": [],
   "source": [
    "H4N = open(\"Harvard IV_Negative Word List_Inf.txt\", \"r\")\n",
    "\n",
    "Inf = []\n",
    "for line in H4N:\n",
    "    stripped_line = line.strip()\n",
    "    Inf.append(stripped_line)\n",
    "\n",
    "H4N.close()"
   ]
  },
  {
   "cell_type": "code",
   "execution_count": 166,
   "metadata": {},
   "outputs": [],
   "source": [
    "Inf = [x.lower() for x in Inf]\n",
    "Inf = list(set(lemmatize_words(Inf)))"
   ]
  },
  {
   "cell_type": "code",
   "execution_count": 172,
   "metadata": {},
   "outputs": [],
   "source": [
    "prop_list = []\n",
    "H4N_list = []\n",
    "for company, _ in filling_lem.items():\n",
    "    for date, val in filling_lem[company].items():\n",
    "        c = 0\n",
    "        h = 0\n",
    "        for i in val:\n",
    "            if i in word_list:\n",
    "                c+=1\n",
    "            if i in Inf:\n",
    "                h+=1\n",
    "        l = len(val)\n",
    "        if l==0:\n",
    "            prop_list.append([company,date,0])\n",
    "            H4N_list.append([company,date,0])\n",
    "        else:\n",
    "            prop_list.append([company,date,c/len(val)])\n",
    "            H4N_list.append([company,date,h/len(val)])"
   ]
  },
  {
   "cell_type": "code",
   "execution_count": 173,
   "metadata": {},
   "outputs": [],
   "source": [
    "filehandler = open(\"prop_df\",\"wb\")\n",
    "pickle.dump(pd.DataFrame(prop_list),filehandler)\n",
    "filehandler.close()"
   ]
  },
  {
   "cell_type": "code",
   "execution_count": 174,
   "metadata": {},
   "outputs": [],
   "source": [
    "filehandler = open(\"prop_H4N_df\",\"wb\")\n",
    "pickle.dump(pd.DataFrame(H4N_list),filehandler)\n",
    "filehandler.close()"
   ]
  },
  {
   "cell_type": "markdown",
   "metadata": {},
   "source": [
    "## TFIDF"
   ]
  },
  {
   "cell_type": "code",
   "execution_count": 74,
   "metadata": {},
   "outputs": [],
   "source": [
    "from sklearn.feature_extraction.text import TfidfVectorizer"
   ]
  },
  {
   "cell_type": "code",
   "execution_count": 91,
   "metadata": {},
   "outputs": [],
   "source": [
    "N = 0\n",
    "for company, _ in filling_lem.items():\n",
    "    N+= len(_)  "
   ]
  },
  {
   "cell_type": "code",
   "execution_count": 92,
   "metadata": {},
   "outputs": [
    {
     "data": {
      "text/plain": [
       "11808"
      ]
     },
     "execution_count": 92,
     "metadata": {},
     "output_type": "execute_result"
    }
   ],
   "source": [
    "N"
   ]
  },
  {
   "cell_type": "code",
   "execution_count": 104,
   "metadata": {},
   "outputs": [],
   "source": [
    "df_dict = {}\n",
    "aj_dict = {}"
   ]
  },
  {
   "cell_type": "code",
   "execution_count": 106,
   "metadata": {},
   "outputs": [],
   "source": [
    "for company, _ in filling_lem.items():\n",
    "    aj_dict[company] = {}\n",
    "    for date, val in filling_lem[company].items():\n",
    "        aj_dict[company][date] = len(val)\n",
    "        for i in set(val):\n",
    "            if i not in df_dict:\n",
    "                df_dict[i] = 1\n",
    "            else:\n",
    "                df_dict[i] += 1"
   ]
  },
  {
   "cell_type": "code",
   "execution_count": 111,
   "metadata": {},
   "outputs": [],
   "source": [
    "wij_dict = {}"
   ]
  },
  {
   "cell_type": "code",
   "execution_count": 116,
   "metadata": {},
   "outputs": [],
   "source": [
    "for company, _ in filling_lem.items():\n",
    "    wij_dict[company] = {}\n",
    "    for date, val in filling_lem[company].items():\n",
    "        wij_dict[company][date] = {}\n",
    "        for i in set(val):\n",
    "            wij_dict[company][date][i] = (1+np.log(val.count(\"item\")))/(1+np.log(aj_dict[company][date]))*np.log(N/df_dict[i])"
   ]
  },
  {
   "cell_type": "code",
   "execution_count": 122,
   "metadata": {},
   "outputs": [],
   "source": [
    "filehandler = open(\"weight_dict.obj\",\"wb\")\n",
    "pickle.dump(wij_dict,filehandler)\n",
    "filehandler.close()"
   ]
  },
  {
   "cell_type": "code",
   "execution_count": 123,
   "metadata": {},
   "outputs": [],
   "source": [
    "with open('weight_dict.obj', 'rb') as handle:\n",
    "    wij_dict = pickle.load(handle)"
   ]
  },
  {
   "cell_type": "code",
   "execution_count": 124,
   "metadata": {},
   "outputs": [
    {
     "data": {
      "text/plain": [
       "3248"
      ]
     },
     "execution_count": 124,
     "metadata": {},
     "output_type": "execute_result"
    }
   ],
   "source": [
    "len(wij_dict[\"NWL\"][\"2021-02-19\"])"
   ]
  },
  {
   "cell_type": "code",
   "execution_count": 128,
   "metadata": {},
   "outputs": [],
   "source": [
    "tfidf_list = []\n",
    "for company, _ in filling_lem.items():\n",
    "    for date, val in filling_lem[company].items():\n",
    "        c = 0\n",
    "        d = 0\n",
    "        for i in val:\n",
    "            d += wij_dict[company][date][i] \n",
    "            if i in word_list:\n",
    "                c+=wij_dict[company][date][i] \n",
    "        if len(val)==0:\n",
    "            tfidf_list.append([company, date, 0])\n",
    "        else:\n",
    "            tfidf_list.append([company, date, c/d])"
   ]
  },
  {
   "cell_type": "code",
   "execution_count": 131,
   "metadata": {},
   "outputs": [],
   "source": [
    "filehandler = open(\"tfidf_df\",\"wb\")\n",
    "pickle.dump(pd.DataFrame(tfidf_list),filehandler)\n",
    "filehandler.close()"
   ]
  },
  {
   "cell_type": "code",
   "execution_count": 132,
   "metadata": {},
   "outputs": [
    {
     "data": {
      "text/html": [
       "<div>\n",
       "<style scoped>\n",
       "    .dataframe tbody tr th:only-of-type {\n",
       "        vertical-align: middle;\n",
       "    }\n",
       "\n",
       "    .dataframe tbody tr th {\n",
       "        vertical-align: top;\n",
       "    }\n",
       "\n",
       "    .dataframe thead th {\n",
       "        text-align: right;\n",
       "    }\n",
       "</style>\n",
       "<table border=\"1\" class=\"dataframe\">\n",
       "  <thead>\n",
       "    <tr style=\"text-align: right;\">\n",
       "      <th></th>\n",
       "      <th>0</th>\n",
       "      <th>1</th>\n",
       "      <th>2</th>\n",
       "    </tr>\n",
       "  </thead>\n",
       "  <tbody>\n",
       "    <tr>\n",
       "      <th>0</th>\n",
       "      <td>NWL</td>\n",
       "      <td>2021-02-19</td>\n",
       "      <td>0.05166388</td>\n",
       "    </tr>\n",
       "    <tr>\n",
       "      <th>1</th>\n",
       "      <td>NWL</td>\n",
       "      <td>2020-03-02</td>\n",
       "      <td>0.05376505</td>\n",
       "    </tr>\n",
       "    <tr>\n",
       "      <th>2</th>\n",
       "      <td>NWL</td>\n",
       "      <td>2019-03-04</td>\n",
       "      <td>0.04501598</td>\n",
       "    </tr>\n",
       "    <tr>\n",
       "      <th>3</th>\n",
       "      <td>NWL</td>\n",
       "      <td>2018-03-01</td>\n",
       "      <td>0.03255259</td>\n",
       "    </tr>\n",
       "    <tr>\n",
       "      <th>4</th>\n",
       "      <td>NWL</td>\n",
       "      <td>2017-03-01</td>\n",
       "      <td>0.02908618</td>\n",
       "    </tr>\n",
       "    <tr>\n",
       "      <th>...</th>\n",
       "      <td>...</td>\n",
       "      <td>...</td>\n",
       "      <td>...</td>\n",
       "    </tr>\n",
       "    <tr>\n",
       "      <th>11803</th>\n",
       "      <td>SEDG</td>\n",
       "      <td>2018-05-10</td>\n",
       "      <td>0.01779219</td>\n",
       "    </tr>\n",
       "    <tr>\n",
       "      <th>11804</th>\n",
       "      <td>SEDG</td>\n",
       "      <td>2017-11-08</td>\n",
       "      <td>0.01912708</td>\n",
       "    </tr>\n",
       "    <tr>\n",
       "      <th>11805</th>\n",
       "      <td>SEDG</td>\n",
       "      <td>2017-08-03</td>\n",
       "      <td>0.01941586</td>\n",
       "    </tr>\n",
       "    <tr>\n",
       "      <th>11806</th>\n",
       "      <td>SEDG</td>\n",
       "      <td>2017-05-10</td>\n",
       "      <td>0.02103066</td>\n",
       "    </tr>\n",
       "    <tr>\n",
       "      <th>11807</th>\n",
       "      <td>SEDG</td>\n",
       "      <td>2016-11-09</td>\n",
       "      <td>0.01922699</td>\n",
       "    </tr>\n",
       "  </tbody>\n",
       "</table>\n",
       "<p>11808 rows × 3 columns</p>\n",
       "</div>"
      ],
      "text/plain": [
       "          0           1          2\n",
       "0       NWL  2021-02-19 0.05166388\n",
       "1       NWL  2020-03-02 0.05376505\n",
       "2       NWL  2019-03-04 0.04501598\n",
       "3       NWL  2018-03-01 0.03255259\n",
       "4       NWL  2017-03-01 0.02908618\n",
       "...     ...         ...        ...\n",
       "11803  SEDG  2018-05-10 0.01779219\n",
       "11804  SEDG  2017-11-08 0.01912708\n",
       "11805  SEDG  2017-08-03 0.01941586\n",
       "11806  SEDG  2017-05-10 0.02103066\n",
       "11807  SEDG  2016-11-09 0.01922699\n",
       "\n",
       "[11808 rows x 3 columns]"
      ]
     },
     "execution_count": 132,
     "metadata": {},
     "output_type": "execute_result"
    }
   ],
   "source": [
    "pd.DataFrame(tfidf_list)"
   ]
  },
  {
   "cell_type": "code",
   "execution_count": 178,
   "metadata": {},
   "outputs": [],
   "source": [
    "tfidf_H4N_list = []\n",
    "for company, _ in filling_lem.items():\n",
    "    for date, val in filling_lem[company].items():\n",
    "        c = 0\n",
    "        d = 0\n",
    "        for i in val:\n",
    "            d += wij_dict[company][date][i] \n",
    "            if i in Inf:\n",
    "                c+=wij_dict[company][date][i] \n",
    "        if len(val)==0:\n",
    "            tfidf_H4N_list.append([company, date, 0])\n",
    "        else:\n",
    "            tfidf_H4N_list.append([company, date, c/d])"
   ]
  },
  {
   "cell_type": "code",
   "execution_count": 179,
   "metadata": {},
   "outputs": [],
   "source": [
    "filehandler = open(\"tfidf_H4N_df\",\"wb\")\n",
    "pickle.dump(pd.DataFrame(tfidf_H4N_list),filehandler)\n",
    "filehandler.close()"
   ]
  },
  {
   "cell_type": "code",
   "execution_count": 181,
   "metadata": {},
   "outputs": [],
   "source": [
    "t = pd.DataFrame(tfidf_H4N_list)"
   ]
  },
  {
   "cell_type": "code",
   "execution_count": 184,
   "metadata": {},
   "outputs": [
    {
     "data": {
      "text/plain": [
       "765"
      ]
     },
     "execution_count": 184,
     "metadata": {},
     "output_type": "execute_result"
    }
   ],
   "source": [
    "sum(t[2]==0)"
   ]
  }
 ],
 "metadata": {
  "kernelspec": {
   "display_name": "Python 3 (ipykernel)",
   "language": "python",
   "name": "python3"
  },
  "language_info": {
   "codemirror_mode": {
    "name": "ipython",
    "version": 3
   },
   "file_extension": ".py",
   "mimetype": "text/x-python",
   "name": "python",
   "nbconvert_exporter": "python",
   "pygments_lexer": "ipython3",
   "version": "3.9.12"
  }
 },
 "nbformat": 4,
 "nbformat_minor": 2
}
