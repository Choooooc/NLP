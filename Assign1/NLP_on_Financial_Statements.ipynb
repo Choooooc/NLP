{
 "cells": [
  {
   "cell_type": "markdown",
   "source": [
    "### Load Packages"
   ],
   "metadata": {
    "collapsed": false
   }
  },
  {
   "cell_type": "code",
   "execution_count": 47,
   "outputs": [],
   "source": [
    "import nltk\n",
    "import numpy as np\n",
    "import pandas as pd\n",
    "import pickle\n",
    "import pprint\n",
    "import project_helper\n",
    "import project_tests\n",
    "from tqdm import tqdm\n",
    "from selenium import webdriver\n",
    "from selenium.webdriver.edge.service import Service as EdgeService\n",
    "from webdriver_manager.microsoft import EdgeChromiumDriverManager\n",
    "from selenium.webdriver.common.by import By\n",
    "from datetime import datetime\n",
    "from selenium.webdriver import EdgeOptions\n",
    "from parser_10KQ import get_word_list\n",
    "from itertools import islice\n",
    "# options = EdgeOptions()\n",
    "# options.add_argument(\"--headless\")\n",
    "# options.add_argument(\"--window-size=%s\" % \"3840, 2160\")"
   ],
   "metadata": {
    "collapsed": false,
    "pycharm": {
     "name": "#%%\n"
    }
   }
  },
  {
   "cell_type": "markdown",
   "source": [
    "### Get S&P500 CIKs\n",
    "Filter the sp500_constituents csv by removing companies that were out after 2017.\n",
    "Use the sp500_constituents permnos to filter sp500_data and get a dictionary of tickers and\n",
    "CIKs."
   ],
   "metadata": {
    "collapsed": false
   }
  },
  {
   "cell_type": "code",
   "execution_count": 48,
   "outputs": [
    {
     "data": {
      "text/plain": "      permno       start      ending\n6      10104  1989-08-03  2022-03-31\n7      10107  1994-06-07  2022-03-31\n11     10138  1999-10-13  2022-03-31\n12     10145  1925-12-31  2022-03-31\n28     10299  2000-04-03  2017-03-10\n...      ...         ...         ...\n2008   93096  2012-12-03  2022-03-31\n2009   93132  2018-10-11  2022-03-31\n2011   93246  2021-03-22  2022-03-31\n2013   93429  2017-03-01  2022-03-31\n2014   93436  2020-12-21  2022-03-31\n\n[627 rows x 3 columns]",
      "text/html": "<div>\n<style scoped>\n    .dataframe tbody tr th:only-of-type {\n        vertical-align: middle;\n    }\n\n    .dataframe tbody tr th {\n        vertical-align: top;\n    }\n\n    .dataframe thead th {\n        text-align: right;\n    }\n</style>\n<table border=\"1\" class=\"dataframe\">\n  <thead>\n    <tr style=\"text-align: right;\">\n      <th></th>\n      <th>permno</th>\n      <th>start</th>\n      <th>ending</th>\n    </tr>\n  </thead>\n  <tbody>\n    <tr>\n      <th>6</th>\n      <td>10104</td>\n      <td>1989-08-03</td>\n      <td>2022-03-31</td>\n    </tr>\n    <tr>\n      <th>7</th>\n      <td>10107</td>\n      <td>1994-06-07</td>\n      <td>2022-03-31</td>\n    </tr>\n    <tr>\n      <th>11</th>\n      <td>10138</td>\n      <td>1999-10-13</td>\n      <td>2022-03-31</td>\n    </tr>\n    <tr>\n      <th>12</th>\n      <td>10145</td>\n      <td>1925-12-31</td>\n      <td>2022-03-31</td>\n    </tr>\n    <tr>\n      <th>28</th>\n      <td>10299</td>\n      <td>2000-04-03</td>\n      <td>2017-03-10</td>\n    </tr>\n    <tr>\n      <th>...</th>\n      <td>...</td>\n      <td>...</td>\n      <td>...</td>\n    </tr>\n    <tr>\n      <th>2008</th>\n      <td>93096</td>\n      <td>2012-12-03</td>\n      <td>2022-03-31</td>\n    </tr>\n    <tr>\n      <th>2009</th>\n      <td>93132</td>\n      <td>2018-10-11</td>\n      <td>2022-03-31</td>\n    </tr>\n    <tr>\n      <th>2011</th>\n      <td>93246</td>\n      <td>2021-03-22</td>\n      <td>2022-03-31</td>\n    </tr>\n    <tr>\n      <th>2013</th>\n      <td>93429</td>\n      <td>2017-03-01</td>\n      <td>2022-03-31</td>\n    </tr>\n    <tr>\n      <th>2014</th>\n      <td>93436</td>\n      <td>2020-12-21</td>\n      <td>2022-03-31</td>\n    </tr>\n  </tbody>\n</table>\n<p>627 rows × 3 columns</p>\n</div>"
     },
     "execution_count": 48,
     "metadata": {},
     "output_type": "execute_result"
    }
   ],
   "source": [
    "sp500_constituents = pd.read_csv(\"sp500_constituents.csv\", dtype={\"permno\":int}, index_col=0)\n",
    "sp500_constituents = sp500_constituents[(sp500_constituents[\"ending\"] > \"2017-01-01\")]\n",
    "sp500_constituents"
   ],
   "metadata": {
    "collapsed": false,
    "pycharm": {
     "name": "#%%\n"
    }
   }
  },
  {
   "cell_type": "code",
   "execution_count": 55,
   "outputs": [
    {
     "name": "stderr",
     "output_type": "stream",
     "text": [
      "C:\\Users\\bwayn\\anaconda3\\lib\\site-packages\\IPython\\core\\interactiveshell.py:3444: DtypeWarning: Columns (10) have mixed types.Specify dtype option on import or set low_memory=False.\n",
      "  exec(code_obj, self.user_global_ns, self.user_ns)\n"
     ]
    }
   ],
   "source": [
    "sp500_data = pd.read_csv(\"sp500_w_addl_id_with_cik.csv\",dtype={\"cik\":str, \"permno\":int})\n",
    "sp500_data = sp500_data[[\"ticker\", \"permno\", \"cik\"]].set_index(\"ticker\")\n",
    "sp500_data = sp500_data[sp500_data[\"permno\"].isin(sp500_constituents[\"permno\"])]\n",
    "sp500_data.drop_duplicates(inplace=True)\n",
    "sp500_data.dropna(inplace=True)\n",
    "cik_lookup = sp500_data.to_dict()[\"cik\"]"
   ],
   "metadata": {
    "collapsed": false,
    "pycharm": {
     "name": "#%%\n"
    }
   }
  },
  {
   "cell_type": "code",
   "execution_count": 58,
   "outputs": [
    {
     "data": {
      "text/plain": "{'DTE': '0000936340',\n 'HST': '0001070750',\n 'MA': '0001141391',\n 'HPQ': '0000047217',\n 'WMT': '0000104169',\n 'EBAY': '0001065088',\n 'CINF': '0000020286',\n 'MAS': '0000062996',\n 'FCX': '0000831259',\n 'ALL': '0000899051',\n 'COG': '0000858470',\n 'ISRG': '0001035267',\n 'GPS': '0000039911',\n 'AET': '0001122304',\n 'PG': '0000080424',\n 'BCR': '0000009892',\n 'HRS': '0000202058',\n 'PBI': '0000078814',\n 'GCI': '0000039899',\n 'PWR': '0001050915',\n 'CSX': '0000277948',\n 'PFE': '0000078003',\n 'HP': '0000046765',\n 'BLL': '0000009389',\n 'WEC': '0000107815',\n 'BXP': '0001037540',\n 'MAT': '0000063276',\n 'LUK': '0000096223',\n 'NBL': '0000072207',\n 'APC': '0000773910',\n 'STT': '0000093751',\n 'ADM': '0000007084',\n 'NOC': '0001133421',\n 'JNJ': '0000200406',\n 'MON': '0001110783',\n 'DNB': '0001799208',\n 'EMR': '0000032604',\n 'EOG': '0000821189',\n 'DFS': '0001393612',\n 'MSFT': '0000789019',\n 'AMGN': '0000318154',\n 'ACE': '0000896159',\n 'TXN': '0000097476',\n 'JPM': '0000019617',\n 'ETFC': '0001015780',\n 'MDT': '0001613103',\n 'TMO': '0000097745',\n 'VLO': '0001035002',\n 'COH': '0001116132',\n 'IR': '0001699150',\n 'WM': '0000823768',\n 'KLAC': '0000319201',\n 'SJM': '0000091419',\n 'HRL': '0000048465',\n 'WDC': '0000106040',\n 'T': '0000732717',\n 'HBAN': '0000049196',\n 'SYK': '0000310764',\n 'SBUX': '0000829224',\n 'HCN': '0000766704',\n 'NWSA': '0001564708',\n 'CHRW': '0001043277',\n 'TJX': '0000109198',\n 'RHI': '0000315213',\n 'DIS': '0001744489',\n 'MO': '0000764180',\n 'CSC': '0001688568',\n 'CME': '0001156375',\n 'NVDA': '0001045810',\n 'NDAQ': '0001120193',\n 'VZ': '0000732712',\n 'HAR': '0000800459',\n 'NKE': '0000320187',\n 'WFC': '0000072971',\n 'IFF': '0000051253',\n 'PNW': '0000764622',\n 'TSO': '0000050104',\n 'MKC': '0000063754',\n 'SNA': '0000091440',\n 'MRO': '0000101778',\n 'EQR': '0000906107',\n 'AN': '0000350698',\n 'WYNN': '0001174922',\n 'ETN': '0001551182',\n 'JWN': '0000072333',\n 'CMA': '0000028412',\n 'BSX': '0000885725',\n 'VAR': '0000203527',\n 'DE': '0000315189',\n 'OKE': '0001039684',\n 'STJ': '0000203077',\n 'YUM': '0001041061',\n 'SYY': '0000096021',\n 'MCHP': '0000827054',\n 'WYN': '0001361658',\n 'APD': '0000002969',\n 'APH': '0000820313',\n 'CELG': '0000816284',\n 'PPG': '0000079879',\n 'CL': '0000021665',\n 'MRK': '0000310158',\n 'PCLN': '0001075531',\n 'WMB': '0000107263',\n 'VRSN': '0001014473',\n 'ETR': '0000065984',\n 'GD': '0000040533',\n 'SCHW': '0000316709',\n 'GIS': '0000040704',\n 'DISCA': '0001437107',\n 'URBN': '0000912615',\n 'ICE': '0001571949',\n 'SWK': '0000093556',\n 'AMZN': '0001018724',\n 'BRK': '0001067983',\n 'LEN': '0000920760',\n 'CMCSA': '0001166691',\n 'AMP': '0000820027',\n 'UNH': '0000731766',\n 'SRE': '0001032208',\n 'MCD': '0000063908',\n 'MU': '0000723125',\n 'KEY': '0000091576',\n 'NFX': '0000912750',\n 'MUR': '0000717423',\n 'SYMC': '0000849399',\n 'M': '0000794367',\n 'R': '0000085961',\n 'MWV': '0001159297',\n 'PNC': '0000713676',\n 'C': '0000831001',\n 'PDCO': '0000891024',\n 'ADBE': '0000796343',\n 'AIG': '0000005272',\n 'KMX': '0001170010',\n 'DUK': '0001326160',\n 'HAS': '0000046080',\n 'TSS': '0000721683',\n 'KO': '0000021344',\n 'VIA': '0001339947',\n 'YHOO': '0001011006',\n 'BBBY': '0000886158',\n 'TER': '0000097210',\n 'D': '0000715957',\n 'GS': '0000886982',\n 'BAX': '0000010456',\n 'MTB': '0000036270',\n 'NFLX': '0001065280',\n 'XEL': '0000072903',\n 'XOM': '0000034088',\n 'VFC': '0000103379',\n 'AEE': '0001002910',\n 'PCAR': '0000075362',\n 'CTSH': '0001058290',\n 'GE': '0000040545',\n 'VNO': '0000899689',\n 'MYL': '0001792044',\n 'CVX': '0000093410',\n 'WY': '0000106535',\n 'LLY': '0000059478',\n 'MSI': '0000068505',\n 'BMY': '0000014272',\n 'EMN': '0000915389',\n 'RAI': '0001275283',\n 'APA': '0001841666',\n 'ZION': '0000109380',\n 'IRM': '0001020569',\n 'CTL': '0000018926',\n 'TSN': '0000100493',\n 'DD': '0000030554',\n 'RRC': '0000315852',\n 'HON': '0000773840',\n 'CMI': '0000026172',\n 'WU': '0001365135',\n 'FTR': '0000020520',\n 'BMS': '0000011199',\n 'COP': '0001163165',\n 'NTRS': '0000073124',\n 'ERTS': '0000712515',\n 'FFIV': '0001048695',\n 'CRM': '0001108524',\n 'TWX': '0001105705',\n 'PSA': '0001393311',\n 'DHR': '0000313616',\n 'CBS': '0000813828',\n 'SPG': '0001063761',\n 'JNPR': '0001043604',\n 'ORLY': '0000898173',\n 'EIX': '0000827052',\n 'NEE': '0000753308',\n 'PRU': '0001137774',\n 'NU': '0000072741',\n 'FAST': '0000815556',\n 'MAR': '0001048286',\n 'GT': '0000042582',\n 'NRG': '0001013871',\n 'CCL': '0000815097',\n 'EQT': '0000033213',\n 'LMT': '0000936468',\n 'STZ': '0000016918',\n 'CPB': '0000016732',\n 'RL': '0001037038',\n 'FDX': '0001048911',\n 'COST': '0000909832',\n 'PH': '0000076334',\n 'SAI': '0001336920',\n 'VTR': '0000740260',\n 'WPI': '0001578845',\n 'PFG': '0001126328',\n 'CF': '0001324404',\n 'V': '0001403161',\n 'PX': '0001707925',\n 'LH': '0000920148',\n 'L': '0000060086',\n 'ROK': '0001024478',\n 'KR': '0000056873',\n 'MS': '0000895421',\n 'DOV': '0000029905',\n 'HES': '0000004447',\n 'CAG': '0000023217',\n 'AMT': '0001053507',\n 'INTC': '0000050863',\n 'FE': '0001031296',\n 'ROP': '0000882835',\n 'RTN': '0001047122',\n 'PGR': '0000080661',\n 'AVY': '0000008818',\n 'AVB': '0000915912',\n 'NI': '0001111711',\n 'HIG': '0000874766',\n 'ADI': '0000006281',\n 'HCP': '0000765880',\n 'UTX': '0000101829',\n 'ROST': '0000745732',\n 'KSS': '0000885639',\n 'PCG': '0001004980',\n 'BK': '0001390777',\n 'DVN': '0001090012',\n 'BEN': '0000038777',\n 'HAL': '0000045012',\n 'NOV': '0001021860',\n 'PM': '0001413329',\n 'EXPE': '0001324424',\n 'WLP': '0001156039',\n 'ADP': '0000008670',\n 'INTU': '0000896878',\n 'CTXS': '0000877890',\n 'LEG': '0000058492',\n 'VMC': '0001396009',\n 'NSC': '0000702165',\n 'WAG': '0001618921',\n 'RF': '0001281761',\n 'ESRX': '0001532063',\n 'HRB': '0000012659',\n 'RHT': '0001087423',\n 'HD': '0000354950',\n 'CMG': '0001058090',\n 'EW': '0001099800',\n 'BLK': '0001364742',\n 'PLD': '0001045609',\n 'MPC': '0001510295',\n 'ACN': '0001467373',\n 'MOS': '0001285785',\n 'TEL': '0001385157',\n 'XYL': '0001524472',\n 'TRIP': '0001526520',\n 'DLTR': '0000935703',\n 'PRGO': '0001585364',\n 'BWA': '0000908255',\n 'CCI': '0001051470',\n 'KMI': '0001506307',\n 'ALXN': '0000899866',\n 'PSX': '0001534701',\n 'LRCX': '0000707549',\n 'MNST': '0000865752',\n 'STX': '0001137789',\n 'LYB': '0001489393',\n 'PNR': '0000077360',\n 'DG': '0000029534',\n 'DLPH': '0001521332',\n 'GRMN': '0001121788',\n 'ABBV': '0001551152',\n 'PVH': '0000078239',\n 'KSU': '0000054480',\n 'REGN': '0000872589',\n 'MAC': '0000912242',\n 'ZTS': '0001555280',\n 'GM': '0001467858',\n 'NLSN': '0001492633',\n 'VRTX': '0000875320',\n 'AME': '0001037868',\n 'DAL': '0000027904',\n 'RIG': '0001451505',\n 'KORS': '0001530721',\n 'GGP': '0001496048',\n 'ADS': '0001101215',\n 'FB': '0001326801',\n 'MHK': '0000851968',\n 'ALLE': '0001579241',\n 'TSCO': '0000916365',\n 'ESS': '0000920522',\n 'NAVI': '0001593538',\n 'UA': '0001336917',\n 'AVGO': '0001730168',\n 'XEC': '0001168054',\n 'AMG': '0001004434',\n 'MLM': '0000916076',\n 'MNK': '0001567892',\n 'UHS': '0000352915',\n 'URI': '0001067701',\n 'LVLT': '0000794323',\n 'RCL': '0000884887',\n 'ENDP': '0001593034',\n 'HCA': '0000860730',\n 'AAL': '0000006201',\n 'SWKS': '0000004127',\n 'HBI': '0001359841',\n 'HSIC': '0001000228',\n 'SLG': '0001040971',\n 'EQIX': '0001101239',\n 'O': '0000726728',\n 'QRVO': '0001604778',\n 'KHC': '0001637459',\n 'SIG': '0000832988',\n 'JBHT': '0000728535',\n 'PYPL': '0001633917',\n 'WRK': '0001732845',\n 'AAP': '0001158449',\n 'ATVI': '0000718877',\n 'UAL': '0000100517',\n 'VRSK': '0001442145',\n 'SYF': '0001601712',\n 'HPE': '0001645590',\n 'CSRA': '0001646383',\n 'ILMN': '0001110803',\n 'CHD': '0000313927',\n 'EXR': '0001289490',\n 'WLTW': '0001140536',\n 'CFG': '0000759944',\n 'CXO': '0001358071',\n 'FRT': '0000034903',\n 'AWK': '0001410636',\n 'CNC': '0001071739',\n 'UDR': '0000074208',\n 'HOLX': '0000859737',\n 'GPN': '0001123360',\n 'ULTA': '0001403568',\n 'FL': '0000850209',\n 'AYI': '0001144215',\n 'LKQ': '0001065696',\n 'DLR': '0001297996',\n 'AJG': '0000354190',\n 'ALK': '0000766421',\n 'FBHS': '0001519751',\n 'TDG': '0001260221',\n 'LNT': '0000352541',\n 'FTV': '0001659166',\n 'ALB': '0000915913',\n 'COO': '0000711404',\n 'CHTR': '0001091667',\n 'JCI': '0000833444',\n 'MTD': '0001037646',\n 'COTY': '0001024305',\n 'ARNC': '0000004281',\n 'EVHC': '0001678531',\n 'MAA': '0000912595',\n 'IDXX': '0000874716',\n 'INCY': '0000879169',\n 'REG': '0000910606',\n 'CBOE': '0001374310',\n 'ARE': '0001035443',\n 'DISH': '0001001082',\n 'RJF': '0000720005',\n 'SNPS': '0000883241',\n 'IT': '0000749251',\n 'RE': '0001095073',\n 'INFO': '0001598014',\n 'HLT': '0001585689',\n 'ALGN': '0001097149',\n 'ANSS': '0001013462',\n 'AOS': '0000091142',\n 'MGM': '0000789570',\n 'BHGE': '0001701605',\n 'DRE': '0000783280',\n 'PKG': '0000075677',\n 'RMD': '0000943819',\n 'Q': '0001478242',\n 'BHF': '0001685040',\n 'CDNS': '0000813672',\n 'DWDP': '0001666700',\n 'SBAC': '0001034054',\n 'NCLH': '0001513761',\n 'HII': '0001501585',\n 'SIVB': '0000719739',\n 'TTWO': '0000946581',\n 'IPGP': '0001111928',\n 'NKTR': '0000906709',\n 'MSCI': '0001408198',\n 'ABMD': '0000815094',\n 'BR': '0001383312',\n 'EVRG': '0001711269',\n 'TWTR': '0001418091',\n 'HFC': '0001915657',\n 'FLT': '0001175454',\n 'CPRT': '0000900075',\n 'ANET': '0001596532',\n 'WCG': '0001279363',\n 'LIN': '0001707925',\n 'FTNT': '0001262039',\n 'ROL': '0000084839',\n 'KEYS': '0001601046',\n 'JKHY': '0000779152',\n 'CE': '0001306830',\n 'LW': '0001679273',\n 'FANG': '0001539838',\n 'MXIM': '0000743316',\n 'TFX': '0000096943',\n 'FRC': '0001132979',\n 'WAB': '0000943452',\n 'ATO': '0000731802',\n 'FOXA': '0001754301',\n 'CTVA': '0001755672',\n 'AMCR': '0001748790',\n 'MKTX': '0001278021',\n 'TMUS': '0001283699',\n 'IEX': '0000832101',\n 'CDW': '0001402057',\n 'NVR': '0000906163',\n 'LVS': '0001300514',\n 'NOW': '0001373715',\n 'ODFL': '0000878927',\n 'ZBRA': '0000877212',\n 'WRB': '0000011544',\n 'STE': '0001757898',\n 'LYV': '0001335258',\n 'PAYC': '0001590955',\n 'CARR': '0001783180',\n 'OTIS': '0001781335',\n 'DPZ': '0001286681',\n 'DXCM': '0001093557',\n 'WST': '0000105770',\n 'TYL': '0000860731',\n 'TDY': '0001094285',\n 'BIO': '0000012208',\n 'ETSY': '0001370637',\n 'CTLT': '0001596783',\n 'POOL': '0000945841',\n 'VNT': '0001786842',\n 'VTRS': '0001792044',\n 'TSLA': '0001318605',\n 'TRMB': '0000864749',\n 'ENPH': '0001463101',\n 'MPWR': '0001280452',\n 'GNRC': '0001474735',\n 'PENN': '0000921738',\n 'CZR': '0001590895',\n 'NXPI': '0001413447',\n 'PTC': '0000857005',\n 'CRL': '0001100682',\n 'OGN': '0001821825',\n 'MRNA': '0001682852',\n 'TECH': '0000842023',\n 'MTCH': '0000891103',\n 'CDAY': '0001725057',\n 'BRO': '0000079282',\n 'EPAM': '0001352010',\n 'SBNY': '0001288784',\n 'FDS': '0001013237',\n 'SEDG': '0001419612'}"
     },
     "execution_count": 58,
     "metadata": {},
     "output_type": "execute_result"
    }
   ],
   "source": [
    "dict(islice(cik_lookup.items(), 140, len(cik_lookup)))\n"
   ],
   "metadata": {
    "collapsed": false,
    "pycharm": {
     "name": "#%%\n"
    }
   }
  },
  {
   "cell_type": "code",
   "execution_count": 59,
   "outputs": [
    {
     "data": {
      "text/plain": "608"
     },
     "execution_count": 59,
     "metadata": {},
     "output_type": "execute_result"
    }
   ],
   "source": [
    "len(cik_lookup)"
   ],
   "metadata": {
    "collapsed": false,
    "pycharm": {
     "name": "#%%\n"
    }
   }
  },
  {
   "cell_type": "code",
   "execution_count": 51,
   "outputs": [
    {
     "data": {
      "text/plain": "{'NWL': '0000814453', 'BBY': '0000764478', 'AIV': '0000922864'}"
     },
     "execution_count": 51,
     "metadata": {},
     "output_type": "execute_result"
    }
   ],
   "source": [],
   "metadata": {
    "collapsed": false,
    "pycharm": {
     "name": "#%%\n"
    }
   }
  },
  {
   "cell_type": "code",
   "execution_count": 14,
   "outputs": [],
   "source": [
    "def chunks(data, SIZE=100):\n",
    "    it = iter(data)\n",
    "    for i in range(0, len(data), SIZE):\n",
    "        yield {k:data[k] for k in islice(it, SIZE)}"
   ],
   "metadata": {
    "collapsed": false,
    "pycharm": {
     "name": "#%%\n"
    }
   }
  },
  {
   "cell_type": "code",
   "execution_count": 15,
   "outputs": [
    {
     "name": "stdout",
     "output_type": "stream",
     "text": [
      "{'NWL': '0000814453', 'BBY': '0000764478', 'AIV': '0000922864'}\n"
     ]
    }
   ],
   "source": [
    "for item in chunks(cik_lookup, 3):\n",
    "    print(item)"
   ],
   "metadata": {
    "collapsed": false,
    "pycharm": {
     "name": "#%%\n"
    }
   }
  },
  {
   "cell_type": "code",
   "execution_count": 16,
   "outputs": [
    {
     "name": "stdout",
     "output_type": "stream",
     "text": [
      "NWL request successful\n",
      "BBY request successful\n",
      "AIV request successful\n"
     ]
    }
   ],
   "source": [
    "from bs4 import BeautifulSoup\n",
    "import requests\n",
    "sec_api = project_helper.SecAPI()\n",
    "example_ticker = \"AMZN\"\n",
    "sec_data = {ticker: [] for ticker in cik_lookup}\n",
    "headers = {'Host': 'www.sec.gov', 'Connection': 'close',\n",
    "           'Accept': 'application/json, text/javascript, */*; q=0.01',\n",
    "           'X-Requested-With': 'XMLHttpRequest',\n",
    "           'User-Agent': 'ruizhuoj@andrew.cmu.edu'\n",
    "           }\n",
    "endpoint = r\"https://www.sec.gov/cgi-bin/browse-edgar\"\n",
    "base_url_sec = r\"https://www.sec.gov\"\n",
    "for ticker in cik_lookup:\n",
    "    # define our parameters dictionary\n",
    "    param_dict_10k = {'action': 'getcompany',\n",
    "                  'CIK': cik_lookup[ticker],\n",
    "                  'type': '10-k',\n",
    "                  'dateb': '20220101',\n",
    "                  'owner': 'exclude',\n",
    "                  'start': '',\n",
    "                  'output': '',\n",
    "                  'count': '10'}\n",
    "    # request the url, and then parse the response.\n",
    "    response_10k = requests.get(url=endpoint, params=param_dict_10k, headers=headers)\n",
    "    soup_10k = BeautifulSoup(response_10k.content, 'html.parser')\n",
    "    doc_table_10k = soup_10k.find_all('table', class_='tableFile2')\n",
    "    param_dict_10q = {'action': 'getcompany',\n",
    "                  'CIK': cik_lookup[ticker],\n",
    "                  'type': '10-Q',\n",
    "                  'dateb': '20220101',\n",
    "                  'owner': 'exclude',\n",
    "                  'start': '',\n",
    "                  'output': '',\n",
    "                  'count': '20'}\n",
    "    # request the url, and then parse the response.\n",
    "    response_10q = requests.get(url=endpoint, params=param_dict_10q, headers=headers)\n",
    "    soup_10q = BeautifulSoup(response_10q.content, 'html.parser')\n",
    "    doc_table_10q = soup_10q.find_all('table', class_='tableFile2')\n",
    "    #Get 10-Ks\n",
    "    for row in doc_table_10k[0].find_all('tr'):\n",
    "        # find all the columns\n",
    "        cols = row.find_all('td')\n",
    "        # if there are no columns move on to the next row.\n",
    "        if len(cols) != 0:\n",
    "            # grab the text\n",
    "            filing_type = cols[0].text.strip()\n",
    "            filing_date = cols[3].text.strip()\n",
    "            if datetime.strptime(filing_date, '%Y-%m-%d').date() < datetime.strptime(\"2017\", '%Y').date():\n",
    "                pass\n",
    "            else:\n",
    "                filing_numb = cols[4].text.strip()\n",
    "                # find the links\n",
    "                filing_doc_href = cols[1].find('a', {'href': True, 'id': 'documentsbutton'})\n",
    "                filing_int_href = cols[1].find('a', {'href': True, 'id': 'interactiveDataBtn'})\n",
    "                filing_doc_link = base_url_sec + filing_doc_href['href']\n",
    "                sec_data[ticker].append((filing_doc_link, filing_type, filing_date))\n",
    "    #Get 10-Qs\n",
    "    for row in doc_table_10q[0].find_all('tr'):\n",
    "        # find all the columns\n",
    "        cols = row.find_all('td')\n",
    "        # if there are no columns move on to the next row.\n",
    "        if len(cols) != 0:\n",
    "            # grab the text\n",
    "            filing_type = cols[0].text.strip()\n",
    "            filing_date = cols[3].text.strip()\n",
    "            filing_numb = cols[4].text.strip()\n",
    "            # find the links\n",
    "            filing_doc_href = cols[1].find('a', {'href': True, 'id': 'documentsbutton'})\n",
    "            filing_int_href = cols[1].find('a', {'href': True, 'id': 'interactiveDataBtn'})\n",
    "            filing_doc_link = base_url_sec + filing_doc_href['href']\n",
    "            sec_data[ticker].append((filing_doc_link, filing_type, filing_date))\n",
    "    print(ticker, \"request successful\")"
   ],
   "metadata": {
    "collapsed": false,
    "pycharm": {
     "name": "#%%\n"
    }
   }
  },
  {
   "cell_type": "markdown",
   "source": [
    "### Download 10-ks\n",
    "As you see, this is a list of urls. These urls point to a file that contains metadata related to each filling. Since we don't care about the metadata, we'll pull the filling by replacing the url with the filling url."
   ],
   "metadata": {
    "collapsed": false
   }
  },
  {
   "cell_type": "code",
   "execution_count": 17,
   "outputs": [],
   "source": [
    "import re\n",
    "# Regex to find <DOCUMENT> tags\n",
    "doc_start_pattern = re.compile(r'<DOCUMENT>')\n",
    "doc_end_pattern = re.compile(r'</DOCUMENT>')\n",
    "# Regex to find <TYPE> tag prceeding any characters, terminating at new line\n",
    "type_pattern = re.compile(r'<TYPE>[^\\n]+')"
   ],
   "metadata": {
    "collapsed": false,
    "pycharm": {
     "name": "#%%\n"
    }
   }
  },
  {
   "cell_type": "code",
   "execution_count": 18,
   "outputs": [
    {
     "name": "stderr",
     "output_type": "stream",
     "text": [
      "Downloading NWL Fillings:   4%|▍         | 1/25 [00:00<00:03,  7.35filling/s]"
     ]
    },
    {
     "name": "stdout",
     "output_type": "stream",
     "text": [
      "https://www.sec.gov/Archives/edgar/data/814453/000081445321000050/0000814453-21-000050-index.htm 10-K 2021-02-19\n",
      "https://www.sec.gov/Archives/edgar/data/814453/000081445320000078/0000814453-20-000078-index.htm 10-K 2020-03-02\n"
     ]
    },
    {
     "name": "stderr",
     "output_type": "stream",
     "text": [
      "Downloading NWL Fillings:  12%|█▏        | 3/25 [00:00<00:02,  7.50filling/s]"
     ]
    },
    {
     "name": "stdout",
     "output_type": "stream",
     "text": [
      "https://www.sec.gov/Archives/edgar/data/814453/000119312519061714/0001193125-19-061714-index.htm 10-K 2019-03-04\n",
      "https://www.sec.gov/Archives/edgar/data/814453/000119312518067603/0001193125-18-067603-index.htm 10-K 2018-03-01\n"
     ]
    },
    {
     "name": "stderr",
     "output_type": "stream",
     "text": [
      "Downloading NWL Fillings:  20%|██        | 5/25 [00:00<00:02,  7.86filling/s]"
     ]
    },
    {
     "name": "stdout",
     "output_type": "stream",
     "text": [
      "https://www.sec.gov/Archives/edgar/data/814453/000081445317000027/0000814453-17-000027-index.htm 10-K 2017-03-01\n",
      "https://www.sec.gov/Archives/edgar/data/814453/000081445321000151/0000814453-21-000151-index.htm 10-Q 2021-10-29\n"
     ]
    },
    {
     "name": "stderr",
     "output_type": "stream",
     "text": [
      "Downloading NWL Fillings:  28%|██▊       | 7/25 [00:01<00:03,  5.01filling/s]"
     ]
    },
    {
     "name": "stdout",
     "output_type": "stream",
     "text": [
      "https://www.sec.gov/Archives/edgar/data/814453/000081445321000120/0000814453-21-000120-index.htm 10-Q 2021-07-30\n",
      "https://www.sec.gov/Archives/edgar/data/814453/000081445321000072/0000814453-21-000072-index.htm 10-Q 2021-04-30\n",
      "https://www.sec.gov/Archives/edgar/data/814453/000081445320000230/0000814453-20-000230-index.htm 10-Q 2020-10-30\n"
     ]
    },
    {
     "name": "stderr",
     "output_type": "stream",
     "text": [
      "Downloading NWL Fillings:  40%|████      | 10/25 [00:01<00:02,  6.97filling/s]"
     ]
    },
    {
     "name": "stdout",
     "output_type": "stream",
     "text": [
      "https://www.sec.gov/Archives/edgar/data/814453/000081445320000215/0000814453-20-000215-index.htm 10-Q 2020-08-05\n",
      "https://www.sec.gov/Archives/edgar/data/814453/000081445320000114/0000814453-20-000114-index.htm 10-Q 2020-05-01\n"
     ]
    },
    {
     "name": "stderr",
     "output_type": "stream",
     "text": [
      "Downloading NWL Fillings:  48%|████▊     | 12/25 [00:02<00:02,  4.40filling/s]"
     ]
    },
    {
     "name": "stdout",
     "output_type": "stream",
     "text": [
      "https://www.sec.gov/Archives/edgar/data/814453/000081445319000111/0000814453-19-000111-index.htm 10-Q 2019-11-04\n",
      "https://www.sec.gov/Archives/edgar/data/814453/000162828019009873/0001628280-19-009873-index.htm 10-Q 2019-08-02\n"
     ]
    },
    {
     "name": "stderr",
     "output_type": "stream",
     "text": [
      "Downloading NWL Fillings:  56%|█████▌    | 14/25 [00:02<00:01,  5.78filling/s]"
     ]
    },
    {
     "name": "stdout",
     "output_type": "stream",
     "text": [
      "https://www.sec.gov/Archives/edgar/data/814453/000119312519141536/0001193125-19-141536-index.htm 10-Q 2019-05-08\n",
      "https://www.sec.gov/Archives/edgar/data/814453/000119312518323823/0001193125-18-323823-index.htm 10-Q 2018-11-09\n",
      "https://www.sec.gov/Archives/edgar/data/814453/000119312518244528/0001193125-18-244528-index.htm 10-Q 2018-08-09\n"
     ]
    },
    {
     "name": "stderr",
     "output_type": "stream",
     "text": [
      "Downloading NWL Fillings:  72%|███████▏  | 18/25 [00:03<00:01,  5.77filling/s]"
     ]
    },
    {
     "name": "stdout",
     "output_type": "stream",
     "text": [
      "https://www.sec.gov/Archives/edgar/data/814453/000119312518159187/0001193125-18-159187-index.htm 10-Q 2018-05-10\n",
      "https://www.sec.gov/Archives/edgar/data/814453/000119312517337345/0001193125-17-337345-index.htm 10-Q 2017-11-08\n",
      "https://www.sec.gov/Archives/edgar/data/814453/000119312517252867/0001193125-17-252867-index.htm 10-Q 2017-08-09\n"
     ]
    },
    {
     "name": "stderr",
     "output_type": "stream",
     "text": [
      "Downloading NWL Fillings:  80%|████████  | 20/25 [00:03<00:00,  7.04filling/s]"
     ]
    },
    {
     "name": "stdout",
     "output_type": "stream",
     "text": [
      "https://www.sec.gov/Archives/edgar/data/814453/000119312517166044/0001193125-17-166044-index.htm 10-Q 2017-05-10\n",
      "https://www.sec.gov/Archives/edgar/data/814453/000081445316000273/0000814453-16-000273-index.htm 10-Q 2016-11-08\n"
     ]
    },
    {
     "name": "stderr",
     "output_type": "stream",
     "text": [
      "Downloading NWL Fillings:  88%|████████▊ | 22/25 [00:04<00:00,  4.55filling/s]"
     ]
    },
    {
     "name": "stdout",
     "output_type": "stream",
     "text": [
      "https://www.sec.gov/Archives/edgar/data/814453/000081445316000258/0000814453-16-000258-index.htm 10-Q 2016-08-09\n",
      "https://www.sec.gov/Archives/edgar/data/814453/000081445316000202/0000814453-16-000202-index.htm 10-Q 2016-05-09\n"
     ]
    },
    {
     "name": "stderr",
     "output_type": "stream",
     "text": [
      "Downloading NWL Fillings: 100%|██████████| 25/25 [00:04<00:00,  5.48filling/s]"
     ]
    },
    {
     "name": "stdout",
     "output_type": "stream",
     "text": [
      "https://www.sec.gov/Archives/edgar/data/814453/000081445315000131/0000814453-15-000131-index.htm 10-Q 2015-11-09\n",
      "https://www.sec.gov/Archives/edgar/data/814453/000081445315000108/0000814453-15-000108-index.htm 10-Q 2015-08-07\n"
     ]
    },
    {
     "name": "stderr",
     "output_type": "stream",
     "text": [
      "\n",
      "Downloading BBY Fillings:   0%|          | 0/25 [00:00<?, ?filling/s]"
     ]
    },
    {
     "name": "stdout",
     "output_type": "stream",
     "text": [
      "https://www.sec.gov/Archives/edgar/data/764478/000076447821000024/0000764478-21-000024-index.htm 10-K 2021-03-19\n"
     ]
    },
    {
     "name": "stderr",
     "output_type": "stream",
     "text": [
      "Downloading BBY Fillings:   8%|▊         | 2/25 [00:00<00:08,  2.80filling/s]"
     ]
    },
    {
     "name": "stdout",
     "output_type": "stream",
     "text": [
      "https://www.sec.gov/Archives/edgar/data/764478/000076447820000017/0000764478-20-000017-index.htm 10-K 2020-03-23\n",
      "https://www.sec.gov/Archives/edgar/data/764478/000076447819000009/0000764478-19-000009-index.htm 10-K 2019-03-28\n"
     ]
    },
    {
     "name": "stderr",
     "output_type": "stream",
     "text": [
      "Downloading BBY Fillings:  16%|█▌        | 4/25 [00:01<00:04,  5.17filling/s]"
     ]
    },
    {
     "name": "stdout",
     "output_type": "stream",
     "text": [
      "https://www.sec.gov/Archives/edgar/data/764478/000076447818000013/0000764478-18-000013-index.htm 10-K 2018-04-02\n",
      "https://www.sec.gov/Archives/edgar/data/764478/000076447817000008/0000764478-17-000008-index.htm 10-K 2017-03-24\n"
     ]
    },
    {
     "name": "stderr",
     "output_type": "stream",
     "text": [
      "Downloading BBY Fillings:  20%|██        | 5/25 [00:01<00:03,  5.93filling/s]"
     ]
    },
    {
     "name": "stdout",
     "output_type": "stream",
     "text": [
      "https://www.sec.gov/Archives/edgar/data/764478/000076447821000068/0000764478-21-000068-index.htm 10-Q 2021-12-03\n"
     ]
    },
    {
     "name": "stderr",
     "output_type": "stream",
     "text": [
      "Downloading BBY Fillings:  28%|██▊       | 7/25 [00:01<00:03,  4.90filling/s]"
     ]
    },
    {
     "name": "stdout",
     "output_type": "stream",
     "text": [
      "https://www.sec.gov/Archives/edgar/data/764478/000076447821000060/0000764478-21-000060-index.htm 10-Q 2021-08-31\n",
      "https://www.sec.gov/Archives/edgar/data/764478/000076447821000039/0000764478-21-000039-index.htm 10-Q 2021-06-04\n",
      "https://www.sec.gov/Archives/edgar/data/764478/000076447820000062/0000764478-20-000062-index.htm 10-Q 2020-11-30\n"
     ]
    },
    {
     "name": "stderr",
     "output_type": "stream",
     "text": [
      "Downloading BBY Fillings:  40%|████      | 10/25 [00:01<00:02,  7.13filling/s]"
     ]
    },
    {
     "name": "stdout",
     "output_type": "stream",
     "text": [
      "https://www.sec.gov/Archives/edgar/data/764478/000076447820000054/0000764478-20-000054-index.htm 10-Q 2020-08-31\n",
      "https://www.sec.gov/Archives/edgar/data/764478/000076447820000029/0000764478-20-000029-index.htm 10-Q 2020-05-27\n"
     ]
    },
    {
     "name": "stderr",
     "output_type": "stream",
     "text": [
      "Downloading BBY Fillings:  48%|████▊     | 12/25 [00:02<00:02,  4.36filling/s]"
     ]
    },
    {
     "name": "stdout",
     "output_type": "stream",
     "text": [
      "https://www.sec.gov/Archives/edgar/data/764478/000076447819000057/0000764478-19-000057-index.htm 10-Q 2019-12-06\n",
      "https://www.sec.gov/Archives/edgar/data/764478/000076447819000042/0000764478-19-000042-index.htm 10-Q 2019-09-06\n"
     ]
    },
    {
     "name": "stderr",
     "output_type": "stream",
     "text": [
      "Downloading BBY Fillings:  60%|██████    | 15/25 [00:03<00:01,  6.81filling/s]"
     ]
    },
    {
     "name": "stdout",
     "output_type": "stream",
     "text": [
      "https://www.sec.gov/Archives/edgar/data/764478/000076447819000028/0000764478-19-000028-index.htm 10-Q 2019-06-07\n",
      "https://www.sec.gov/Archives/edgar/data/764478/000076447818000053/0000764478-18-000053-index.htm 10-Q 2018-12-07\n",
      "https://www.sec.gov/Archives/edgar/data/764478/000076447818000043/0000764478-18-000043-index.htm 10-Q 2018-09-10\n"
     ]
    },
    {
     "name": "stderr",
     "output_type": "stream",
     "text": [
      "Downloading BBY Fillings:  72%|███████▏  | 18/25 [00:03<00:01,  5.35filling/s]"
     ]
    },
    {
     "name": "stdout",
     "output_type": "stream",
     "text": [
      "https://www.sec.gov/Archives/edgar/data/764478/000076447818000024/0000764478-18-000024-index.htm 10-Q 2018-06-08\n",
      "https://www.sec.gov/Archives/edgar/data/764478/000076447817000039/0000764478-17-000039-index.htm 10-Q 2017-12-01\n"
     ]
    },
    {
     "name": "stderr",
     "output_type": "stream",
     "text": [
      "Downloading BBY Fillings:  80%|████████  | 20/25 [00:03<00:00,  6.79filling/s]"
     ]
    },
    {
     "name": "stdout",
     "output_type": "stream",
     "text": [
      "https://www.sec.gov/Archives/edgar/data/764478/000076447817000032/0000764478-17-000032-index.htm 10-Q 2017-09-05\n",
      "https://www.sec.gov/Archives/edgar/data/764478/000076447817000018/0000764478-17-000018-index.htm 10-Q 2017-06-05\n",
      "https://www.sec.gov/Archives/edgar/data/764478/000076447816000093/0000764478-16-000093-index.htm 10-Q 2016-12-02\n"
     ]
    },
    {
     "name": "stderr",
     "output_type": "stream",
     "text": [
      "Downloading BBY Fillings:  88%|████████▊ | 22/25 [00:04<00:00,  4.37filling/s]"
     ]
    },
    {
     "name": "stdout",
     "output_type": "stream",
     "text": [
      "https://www.sec.gov/Archives/edgar/data/764478/000076447816000088/0000764478-16-000088-index.htm 10-Q 2016-09-02\n",
      "https://www.sec.gov/Archives/edgar/data/764478/000076447816000075/0000764478-16-000075-index.htm 10-Q 2016-06-09\n"
     ]
    },
    {
     "name": "stderr",
     "output_type": "stream",
     "text": [
      "Downloading BBY Fillings: 100%|██████████| 25/25 [00:05<00:00,  6.48filling/s]"
     ]
    },
    {
     "name": "stdout",
     "output_type": "stream",
     "text": [
      "https://www.sec.gov/Archives/edgar/data/764478/000076447815000051/0000764478-15-000051-index.htm 10-Q 2015-12-04\n",
      "https://www.sec.gov/Archives/edgar/data/764478/000076447815000042/0000764478-15-000042-index.htm 10-Q 2015-09-04\n"
     ]
    },
    {
     "name": "stderr",
     "output_type": "stream",
     "text": [
      "Downloading BBY Fillings: 100%|██████████| 25/25 [00:05<00:00,  4.96filling/s]\n",
      "Downloading AIV Fillings:   0%|          | 0/26 [00:00<?, ?filling/s]"
     ]
    },
    {
     "name": "stdout",
     "output_type": "stream",
     "text": [
      "https://www.sec.gov/Archives/edgar/data/922864/000156459021022517/0001564590-21-022517-index.htm 10-K/A 2021-04-30\n",
      "https://www.sec.gov/Archives/edgar/data/922864/000156459021012671/0001564590-21-012671-index.htm 10-K 2021-03-12\n"
     ]
    },
    {
     "name": "stderr",
     "output_type": "stream",
     "text": [
      "Downloading AIV Fillings:  12%|█▏        | 3/26 [00:00<00:05,  4.22filling/s]"
     ]
    },
    {
     "name": "stdout",
     "output_type": "stream",
     "text": [
      "https://www.sec.gov/Archives/edgar/data/922864/000156459020006053/0001564590-20-006053-index.htm 10-K 2020-02-24\n",
      "https://www.sec.gov/Archives/edgar/data/922864/000092286419000007/0000922864-19-000007-index.htm 10-K 2019-02-20\n"
     ]
    },
    {
     "name": "stderr",
     "output_type": "stream",
     "text": [
      "Downloading AIV Fillings:  19%|█▉        | 5/26 [00:00<00:03,  5.83filling/s]"
     ]
    },
    {
     "name": "stdout",
     "output_type": "stream",
     "text": [
      "https://www.sec.gov/Archives/edgar/data/922864/000092286418000006/0000922864-18-000006-index.htm 10-K 2018-03-01\n",
      "https://www.sec.gov/Archives/edgar/data/922864/000092286417000006/0000922864-17-000006-index.htm 10-K 2017-02-24\n"
     ]
    },
    {
     "name": "stderr",
     "output_type": "stream",
     "text": [
      "Downloading AIV Fillings:  23%|██▎       | 6/26 [00:01<00:03,  6.46filling/s]"
     ]
    },
    {
     "name": "stdout",
     "output_type": "stream",
     "text": [
      "https://www.sec.gov/Archives/edgar/data/922864/000156459021055777/0001564590-21-055777-index.htm 10-Q 2021-11-09\n"
     ]
    },
    {
     "name": "stderr",
     "output_type": "stream",
     "text": [
      "Downloading AIV Fillings:  31%|███       | 8/26 [00:01<00:03,  4.81filling/s]"
     ]
    },
    {
     "name": "stdout",
     "output_type": "stream",
     "text": [
      "https://www.sec.gov/Archives/edgar/data/922864/000156459021044377/0001564590-21-044377-index.htm 10-Q 2021-08-16\n",
      "https://www.sec.gov/Archives/edgar/data/922864/000156459021028429/0001564590-21-028429-index.htm 10-Q 2021-05-17\n",
      "https://www.sec.gov/Archives/edgar/data/922864/000156459020049394/0001564590-20-049394-index.htm 10-Q 2020-11-02\n"
     ]
    },
    {
     "name": "stderr",
     "output_type": "stream",
     "text": [
      "Downloading AIV Fillings:  42%|████▏     | 11/26 [00:01<00:02,  7.06filling/s]"
     ]
    },
    {
     "name": "stdout",
     "output_type": "stream",
     "text": [
      "https://www.sec.gov/Archives/edgar/data/922864/000156459020036228/0001564590-20-036228-index.htm 10-Q 2020-08-04\n",
      "https://www.sec.gov/Archives/edgar/data/922864/000156459020023679/0001564590-20-023679-index.htm 10-Q 2020-05-11\n"
     ]
    },
    {
     "name": "stderr",
     "output_type": "stream",
     "text": [
      "Downloading AIV Fillings:  54%|█████▍    | 14/26 [00:02<00:02,  5.34filling/s]"
     ]
    },
    {
     "name": "stdout",
     "output_type": "stream",
     "text": [
      "https://www.sec.gov/Archives/edgar/data/922864/000156459019039821/0001564590-19-039821-index.htm 10-Q 2019-11-04\n",
      "https://www.sec.gov/Archives/edgar/data/922864/000156459019031035/0001564590-19-031035-index.htm 10-Q 2019-08-09\n"
     ]
    },
    {
     "name": "stderr",
     "output_type": "stream",
     "text": [
      "Downloading AIV Fillings:  58%|█████▊    | 15/26 [00:02<00:01,  5.97filling/s]"
     ]
    },
    {
     "name": "stdout",
     "output_type": "stream",
     "text": [
      "https://www.sec.gov/Archives/edgar/data/922864/000092286419000024/0000922864-19-000024-index.htm 10-Q 2019-05-06\n",
      "https://www.sec.gov/Archives/edgar/data/922864/000092286418000047/0000922864-18-000047-index.htm 10-Q 2018-11-05\n",
      "https://www.sec.gov/Archives/edgar/data/922864/000092286418000037/0000922864-18-000037-index.htm 10-Q 2018-08-07\n"
     ]
    },
    {
     "name": "stderr",
     "output_type": "stream",
     "text": [
      "Downloading AIV Fillings:  73%|███████▎  | 19/26 [00:03<00:01,  5.45filling/s]"
     ]
    },
    {
     "name": "stdout",
     "output_type": "stream",
     "text": [
      "https://www.sec.gov/Archives/edgar/data/922864/000092286418000021/0000922864-18-000021-index.htm 10-Q 2018-05-08\n",
      "https://www.sec.gov/Archives/edgar/data/922864/000092286417000043/0000922864-17-000043-index.htm 10-Q 2017-11-01\n"
     ]
    },
    {
     "name": "stderr",
     "output_type": "stream",
     "text": [
      "Downloading AIV Fillings:  77%|███████▋  | 20/26 [00:03<00:01,  5.99filling/s]"
     ]
    },
    {
     "name": "stdout",
     "output_type": "stream",
     "text": [
      "https://www.sec.gov/Archives/edgar/data/922864/000092286417000035/0000922864-17-000035-index.htm 10-Q 2017-08-02\n",
      "https://www.sec.gov/Archives/edgar/data/922864/000092286417000016/0000922864-17-000016-index.htm 10-Q 2017-05-05\n"
     ]
    },
    {
     "name": "stderr",
     "output_type": "stream",
     "text": [
      "Downloading AIV Fillings:  81%|████████  | 21/26 [00:04<00:00,  6.57filling/s]"
     ]
    },
    {
     "name": "stdout",
     "output_type": "stream",
     "text": [
      "https://www.sec.gov/Archives/edgar/data/922864/000092286416000124/0000922864-16-000124-index.htm 10-Q 2016-10-28\n"
     ]
    },
    {
     "name": "stderr",
     "output_type": "stream",
     "text": [
      "Downloading AIV Fillings:  88%|████████▊ | 23/26 [00:04<00:00,  4.17filling/s]"
     ]
    },
    {
     "name": "stdout",
     "output_type": "stream",
     "text": [
      "https://www.sec.gov/Archives/edgar/data/922864/000092286416000112/0000922864-16-000112-index.htm 10-Q 2016-07-29\n",
      "https://www.sec.gov/Archives/edgar/data/922864/000092286416000089/0000922864-16-000089-index.htm 10-Q 2016-04-29\n"
     ]
    },
    {
     "name": "stderr",
     "output_type": "stream",
     "text": [
      "Downloading AIV Fillings:  96%|█████████▌| 25/26 [00:05<00:00,  5.52filling/s]"
     ]
    },
    {
     "name": "stdout",
     "output_type": "stream",
     "text": [
      "https://www.sec.gov/Archives/edgar/data/922864/000092286415000054/0000922864-15-000054-index.htm 10-Q 2015-11-05\n",
      "https://www.sec.gov/Archives/edgar/data/922864/000092286415000033/0000922864-15-000033-index.htm 10-Q 2015-07-31\n"
     ]
    },
    {
     "name": "stderr",
     "output_type": "stream",
     "text": [
      "Downloading AIV Fillings: 100%|██████████| 26/26 [00:05<00:00,  5.03filling/s]\n"
     ]
    }
   ],
   "source": [
    "\n",
    "fillings_by_ticker = {}\n",
    "browser = webdriver.Edge(service=EdgeService(EdgeChromiumDriverManager().install()))\n",
    "for ticker, data in sec_data.items():\n",
    "    fillings_by_ticker[ticker] = {}\n",
    "    for index_url, file_type, file_date in tqdm(data, desc='Downloading {} Fillings'.format(ticker), unit='filling'):\n",
    "        print(index_url, file_type, file_date)\n",
    "        if (file_type == '10-K' or file_type == '10-Q'):\n",
    "            file_url = index_url.replace('-index.htm', '.txt').replace('.txtl', '.txt')\n",
    "            fillings_by_ticker[ticker][file_date] = sec_api.get(file_url)\n",
    "with open('fillings_by_ticker_dict', 'wb') as handle:\n",
    "    pickle.dump(fillings_by_ticker, handle, protocol=pickle.HIGHEST_PROTOCOL)"
   ],
   "metadata": {
    "collapsed": false,
    "pycharm": {
     "name": "#%%\n"
    }
   }
  },
  {
   "cell_type": "code",
   "execution_count": 19,
   "outputs": [],
   "source": [
    "with open('fillings_by_ticker_dict', 'rb') as handle:\n",
    "    fillings_by_ticker = pickle.load(handle)"
   ],
   "metadata": {
    "collapsed": false,
    "pycharm": {
     "name": "#%%\n"
    }
   }
  },
  {
   "cell_type": "code",
   "execution_count": 46,
   "outputs": [
    {
     "name": "stdout",
     "output_type": "stream",
     "text": [
      "<SEC-DOCUMENT>0000922864-16-000124.txt : 20161028\n",
      "<SEC-HEADER>0000922864-16-000124.hdr.sgml : 20161028\n",
      "<ACCEPTANCE-DATETIME>20161028152849\n",
      "ACCESSION NUMBER:\t\t0000922864-16-000124\n",
      "CONFORMED SUBMISSION TYPE:\t10-Q\n",
      "PUBLIC DOCUMENT COUNT:\t\t56\n",
      "CONFORMED PERIOD OF REPORT:\t20160930\n",
      "FILED AS OF DATE:\t\t20161028\n",
      "DATE AS OF CHANGE:\t\t20161028\n",
      "\n",
      "FILER:\n",
      "\n",
      "\tCOMPANY DATA:\t\n",
      "\t\tCOMPANY CONFORMED NAME:\t\t\tAPARTMENT INVESTMENT & MANAGEMENT CO\n",
      "\t\tCENTRAL INDEX KEY:\t\t\t0000922864\n",
      "\t\tSTANDARD INDUSTRIAL CLASSIFICATION:\tREAL ESTATE INVESTMENT TRUSTS [6798]\n",
      "\t\tIRS NUMBER:\t\t\t\t841259577\n",
      "\t\tSTATE OF INCORPORATION:\t\t\tMD\n",
      "\t\tFISCAL YEAR END:\t\t\t1231\n",
      "\n",
      "\tFILING VALUES:\n",
      "\t\tFORM TYPE:\t\t10-Q\n",
      "\t\tSEC ACT:\t\t1934 Act\n",
      "\t\tSEC FILE NUMBER:\t001-13232\n",
      "\t\tFILM NUMBER:\t\t161958364\n",
      "\n",
      "\tBUSINESS ADDRESS:\t\n",
      "\t\tSTREET 1:\t\t4582 SOUTH ULSTER STREET\n",
      "\t\tSTREET 2:\t\tSUITE 1100\n",
      "\t\tCITY:\t\t\tDENVER\n",
      "\t\tSTATE:\t\t\tCO\n",
      "\t\tZIP:\t\t\t80237\n",
      "\t\tBUSINESS PHONE:\t\t3037578101\n",
      "\n",
      "\tMAIL ADDRESS:\t\n",
      "\t\tSTREET 1:\t\t4582 SOUTH ULSTER STREET\n",
      "\t\tSTREET 2:\t\tSUITE 1100\n",
      "\t\tCITY:\t\t\tDENVER\n",
      "\t\tSTATE:\t\t\tCO\n",
      "\t\tZIP:\t\t\t80237\n",
      "\n",
      "FILER:\n",
      "\n",
      "\tCOMPANY DATA:\t\n",
      "\t\tCOMPANY CONFORMED NAME:\t\t\tAIMCO PROPERTIES L.P.\n",
      "\t\tCENTRAL INDEX KEY:\t\t\t0000926660\n",
      "\t\tSTANDARD INDUSTRIAL CLASSIFICATION:\tOPERATORS OF APARTMENT BUILDINGS [6513]\n",
      "\t\tIRS NUMBER:\t\t\t\t841275621\n",
      "\t\tSTATE OF INCORPORATION:\t\t\tDE\n",
      "\t\tFISCAL YEAR END:\t\t\t1231\n",
      "\n",
      "\tFILING VALUES:\n",
      "\t\tFORM TYPE:\t\t10-Q\n",
      "\t\tSEC ACT:\t\t1934 Act\n",
      "\t\tSEC FILE NUMBER:\t000-24497\n",
      "\t\tFILM NUMBER:\t\t161958365\n",
      "\n",
      "\tBUSINESS ADDRESS:\t\n",
      "\t\tSTREET 1:\t\t4582 S ULSTER ST PARKWAY\n",
      "\t\tSTREET 2:\t\tSUITE 1100\n",
      "\t\tCITY:\t\t\tDENVER\n",
      "\t\tSTATE:\t\t\tCO\n",
      "\t\tZIP:\t\t\t80237\n",
      "\t\tBUSINESS PHONE:\t\t3037578101\n",
      "\n",
      "\tMAIL ADDRESS:\t\n",
      "\t\tSTREET 1:\t\t4582 S ULSTER ST PARKWAY\n",
      "\t\tSTREET 2:\t\tSUITE 1100\n",
      "\t\tCITY:\t\t\tDENVER\n",
      "\t\tSTATE:\t\t\tCO\n",
      "\t\tZIP:\t\t\t80237\n",
      "\n",
      "\tFORMER COMPANY:\t\n",
      "\t\tFORMER CONFORMED NAME:\tAIMCO PROPERTIES LP\n",
      "\t\tDATE OF NAME CHANGE:\t19980519\n",
      "</SEC-HEADER>\n",
      "<DOCUMENT>\n",
      "<TYPE>10-Q\n",
      "<SEQUENCE>1\n",
      "<FILENAME>q3201610-q.htm\n",
      "<DESCRIPTION>10-Q Q3 2016\n",
      "<TEXT>\n",
      "<!DOCTYPE html PUBLIC \"-//W3C//DTD HTML 4.01 Transitional//EN\" \"http://www.w3.org/TR/html4/loose.dtd\">\n",
      "<html>\n",
      "\t<head>\n",
      "\t\t\n"
     ]
    }
   ],
   "source": [
    "print(fillings_by_ticker[\"AIV\"][\"2016-10-28\"][:2000])"
   ],
   "metadata": {
    "collapsed": false,
    "pycharm": {
     "name": "#%%\n"
    }
   }
  },
  {
   "cell_type": "code",
   "execution_count": 20,
   "outputs": [],
   "source": [
    "# ten_ks_by_ticker = {}\n",
    "#\n",
    "# for ticker, filling_documents in filling_documents_by_ticker.items():\n",
    "#     ten_ks_by_ticker[ticker] = []\n",
    "#     for file_date, documents in filling_documents.items():\n",
    "#         for document in documents:\n",
    "#             if get_document_type(document) == '10-k':\n",
    "#                 ten_ks_by_ticker[ticker].append({\n",
    "#                     'cik': cik_lookup[ticker],\n",
    "#                     'file': document,\n",
    "#                     'file_date': file_date})\n",
    "#\n",
    "#\n",
    "# project_helper.print_ten_k_data(ten_ks_by_ticker[example_ticker][:5], ['cik', 'file', 'file_date'])\n",
    "#"
   ],
   "metadata": {
    "collapsed": false,
    "pycharm": {
     "name": "#%%\n"
    }
   }
  },
  {
   "cell_type": "code",
   "execution_count": 21,
   "outputs": [],
   "source": [
    "# raw_10k = raw_fillings_by_ticker[\"AMZN\"][\"2019-02-01\"]\n",
    "# import re\n",
    "# # Regex to find <DOCUMENT> tags\n",
    "# doc_start_pattern = re.compile(r'<DOCUMENT>')\n",
    "# doc_end_pattern = re.compile(r'</DOCUMENT>')\n",
    "# # Regex to find <TYPE> tag prceeding any characters, terminating at new line\n",
    "# type_pattern = re.compile(r'<TYPE>[^\\n]+')\n",
    "# # Create 3 lists with the span idices for each regex\n",
    "#\n",
    "# ### There are many <Document> Tags in this text file, each as specific exhibit like 10-K, EX-10.17 etc\n",
    "# ### First filter will give us document tag start <end> and document tag end's <start>\n",
    "# ### We will use this to later grab content in between these tags\n",
    "# doc_start_is = [x.end() for x in doc_start_pattern.finditer(raw_10k)]\n",
    "# doc_end_is = [x.start() for x in doc_end_pattern.finditer(raw_10k)]\n",
    "#\n",
    "# ### Type filter is interesting, it looks for <TYPE> with Not flag as new line, ie terminare there, with + sign\n",
    "# ### to look for any char afterwards until new line \\n. This will give us <TYPE> followed Section Name like '10-K'\n",
    "# ### Once we have have this, it returns String Array, below line will with find content after <TYPE> ie, '10-K'\n",
    "# ### as section names\n",
    "# doc_types = [x[len('<TYPE>'):] for x in type_pattern.findall(raw_10k)]\n",
    "# document = {}\n",
    "#\n",
    "# # Create a loop to go through each section type and save only the 10-K section in the dictionary\n",
    "# for doc_type, doc_start, doc_end in zip(doc_types, doc_start_is, doc_end_is):\n",
    "#     if doc_type == '10-K':\n",
    "#         document[doc_type] = raw_10k[doc_start:doc_end]\n",
    "#"
   ],
   "metadata": {
    "collapsed": false,
    "pycharm": {
     "name": "#%%\n"
    }
   }
  },
  {
   "cell_type": "code",
   "execution_count": 22,
   "outputs": [],
   "source": [
    "# # display excerpt the document\n",
    "# document['10-K'][0:500]\n",
    "#"
   ],
   "metadata": {
    "collapsed": false,
    "pycharm": {
     "name": "#%%\n"
    }
   }
  },
  {
   "cell_type": "code",
   "execution_count": 23,
   "outputs": [],
   "source": [
    "# # Write the regex\n",
    "# regex = re.compile(r'(>Item(\\s|&#160;|&nbsp;)(1A|1B|7A|7|8)\\.{0,1})|(ITEM\\s(1A|1B|7A|7|8))')\n",
    "#"
   ],
   "metadata": {
    "collapsed": false,
    "pycharm": {
     "name": "#%%\n"
    }
   }
  },
  {
   "cell_type": "code",
   "execution_count": 24,
   "outputs": [],
   "source": [
    "# matches = regex.finditer(document['10-K'])\n",
    "#\n",
    "# # Create the dataframe\n",
    "# test_df = pd.DataFrame([(x.group(), x.start(), x.end()) for x in matches])\n",
    "#\n",
    "# test_df.columns = ['item', 'start', 'end']\n",
    "# test_df['item'] = test_df.item.str.lower()\n",
    "#\n",
    "# # Display the dataframe\n",
    "# test_df.head()\n",
    "#"
   ],
   "metadata": {
    "collapsed": false,
    "pycharm": {
     "name": "#%%\n"
    }
   }
  },
  {
   "cell_type": "code",
   "execution_count": 25,
   "outputs": [],
   "source": [
    "# # Get rid of unnesesary charcters from the dataframe\n",
    "# test_df.replace('&#160;',' ',regex=True,inplace=True)\n",
    "# test_df.replace('&nbsp;',' ',regex=True,inplace=True)\n",
    "# test_df.replace(' ','',regex=True,inplace=True)\n",
    "# test_df.replace('\\.','',regex=True,inplace=True)\n",
    "# test_df.replace('>','',regex=True,inplace=True)\n",
    "#"
   ],
   "metadata": {
    "collapsed": false,
    "pycharm": {
     "name": "#%%\n"
    }
   }
  },
  {
   "cell_type": "code",
   "execution_count": 26,
   "outputs": [],
   "source": [
    "# pos_dat = test_df.sort_values('start', ascending=True).drop_duplicates(subset=['item'], keep='last')\n",
    "# pos_dat.set_index('item', inplace=True)\n",
    "#"
   ],
   "metadata": {
    "collapsed": false,
    "pycharm": {
     "name": "#%%\n"
    }
   }
  },
  {
   "cell_type": "code",
   "execution_count": 27,
   "outputs": [],
   "source": [
    "# pos_dat\n",
    "#"
   ],
   "metadata": {
    "collapsed": false,
    "pycharm": {
     "name": "#%%\n"
    }
   }
  },
  {
   "cell_type": "code",
   "execution_count": 28,
   "outputs": [],
   "source": [
    "# document['10-K']\n",
    "# #Get Item 1a\n",
    "# item_1a_raw = document['10-K'][pos_dat['start'].loc['item1a']:pos_dat['start'].loc['item1b']]\n",
    "# #item_1b_raw = document['10-K'][pos_dat['start'].loc['item1b']:pos_dat['start'].loc['item7a']]\n",
    "# item_7_raw = document['10-K'][pos_dat['start'].loc['item7']:pos_dat['start'].loc['item7a']]\n",
    "# item_7a_raw = document['10-K'][pos_dat['start'].loc['item7a']:pos_dat['start'].loc['item8']]\n",
    "# #item_8_raw = document['10-K'][pos_dat['start'].loc['item8']:]\n",
    "#"
   ],
   "metadata": {
    "collapsed": false,
    "pycharm": {
     "name": "#%%\n"
    }
   }
  },
  {
   "cell_type": "code",
   "execution_count": 29,
   "outputs": [],
   "source": [
    "# \"a\"+\" \"+\"b\"\n",
    "#"
   ],
   "metadata": {
    "collapsed": false,
    "pycharm": {
     "name": "#%%\n"
    }
   }
  },
  {
   "cell_type": "code",
   "execution_count": 30,
   "outputs": [],
   "source": [
    "# item_content = BeautifulSoup(item_1a_raw + item_7_raw + item_7a_raw, 'lxml')\n",
    "# print(item_content.get_text(\"\\n\\n\"))\n",
    "#"
   ],
   "metadata": {
    "collapsed": false,
    "pycharm": {
     "name": "#%%\n"
    }
   }
  },
  {
   "cell_type": "code",
   "execution_count": 31,
   "outputs": [],
   "source": [
    "# len(item_content.get_text(\"\\n\\n\"))\n",
    "#"
   ],
   "metadata": {
    "collapsed": false,
    "pycharm": {
     "name": "#%%\n"
    }
   }
  },
  {
   "cell_type": "markdown",
   "source": [
    "### Get Documents\n",
    "With theses fillings downloaded, we want to break them into their associated documents. These documents are sectioned off in the fillings with the tags `<DOCUMENT>` for the start of each document and `</DOCUMENT>` for the end of each document. There's no overlap with these documents, so each `</DOCUMENT>` tag should come after the `<DOCUMENT>` with no `<DOCUMENT>` tag in between.\n",
    "\n",
    "Implement `get_documents` to return a list of these documents from a filling. Make sure not to include the tag in the returned document text."
   ],
   "metadata": {
    "collapsed": false
   }
  },
  {
   "cell_type": "code",
   "execution_count": 32,
   "outputs": [],
   "source": [
    "# import re\n",
    "#\n",
    "#\n",
    "# def get_documents(text):\n",
    "#     \"\"\"\n",
    "#     Extract the documents from the text\n",
    "#\n",
    "#     Parameters\n",
    "#     ----------\n",
    "#     text : str\n",
    "#         The text with the document strings inside\n",
    "#\n",
    "#     Returns\n",
    "#     -------\n",
    "#     extracted_docs : list of str\n",
    "#         The document strings found in `text`\n",
    "#     \"\"\"\n",
    "#\n",
    "#     # TODO: Implement\n",
    "#     extracted_docs = []\n",
    "#\n",
    "#     doc_start_pattern = re.compile(r'<DOCUMENT>')\n",
    "#     doc_end_pattern = re.compile(r'</DOCUMENT>')\n",
    "#\n",
    "#     doc_start_is = [x.end() for x in doc_start_pattern.finditer(text)]\n",
    "#     doc_end_is = [x.start() for x in doc_end_pattern.finditer(text)]\n",
    "#\n",
    "#     for doc_start_i, doc_end_i in zip(doc_start_is, doc_end_is):\n",
    "#             extracted_docs.append(text[doc_start_i:doc_end_i])\n",
    "#\n",
    "#     return extracted_docs\n",
    "#\n",
    "#\n",
    "# project_tests.test_get_documents(get_documents)\n",
    "#"
   ],
   "metadata": {
    "collapsed": false,
    "pycharm": {
     "name": "#%%\n"
    }
   }
  },
  {
   "cell_type": "markdown",
   "source": [
    "With the `get_documents` function implemented, let's extract all the documents."
   ],
   "metadata": {
    "collapsed": false
   }
  },
  {
   "cell_type": "code",
   "execution_count": 33,
   "outputs": [],
   "source": [
    "# filling_documents_by_ticker = {}\n",
    "#\n",
    "# for ticker, raw_fillings in raw_fillings_by_ticker.items():\n",
    "#     filling_documents_by_ticker[ticker] = {}\n",
    "#     for file_date, filling in tqdm(raw_fillings.items(), desc='Getting Documents from {} Fillings'.format(ticker), unit='filling'):\n",
    "#         filling_documents_by_ticker[ticker][file_date] = get_documents(filling)\n",
    "#\n",
    "#\n",
    "# print('\\n\\n'.join([\n",
    "#     'Document {} Filed on {}:\\n{}...'.format(doc_i, file_date, doc[:200])\n",
    "#     for file_date, docs in filling_documents_by_ticker[example_ticker].items()\n",
    "#     for doc_i, doc in enumerate(docs)][:3]))\n",
    "#"
   ],
   "metadata": {
    "collapsed": false,
    "pycharm": {
     "name": "#%%\n"
    }
   }
  },
  {
   "cell_type": "markdown",
   "source": [
    "### Get Document Types\n",
    "Now that we have all the documents, we want to find the 10-k form in this 10-k filing. Implement the `get_document_type` function to return the type of document given. The document type is located on a line with the `<TYPE>` tag. For example, a form of type \"TEST\" would have the line `<TYPE>TEST`. Make sure to return the type as lowercase, so this example would be returned as \"test\"."
   ],
   "metadata": {
    "collapsed": false
   }
  },
  {
   "cell_type": "code",
   "execution_count": 34,
   "outputs": [],
   "source": [
    "# def get_document_type(doc):\n",
    "#     type_pattern = re.compile(r'<TYPE>[^\\n]+')\n",
    "#\n",
    "#     doc_type = type_pattern.findall(doc)[0][len('<TYPE>'):]\n",
    "#\n",
    "#     return doc_type.lower()\n",
    "#\n",
    "#\n",
    "# project_tests.test_get_document_type(get_document_type)\n",
    "#"
   ],
   "metadata": {
    "collapsed": false,
    "pycharm": {
     "name": "#%%\n"
    }
   }
  },
  {
   "cell_type": "markdown",
   "source": [
    "With the `get_document_type` function, we'll filter out all non 10-k documents."
   ],
   "metadata": {
    "collapsed": false
   }
  },
  {
   "cell_type": "code",
   "execution_count": 35,
   "outputs": [],
   "source": [
    "# ten_ks_by_ticker = {}\n",
    "#\n",
    "# for ticker, filling_documents in filling_documents_by_ticker.items():\n",
    "#     ten_ks_by_ticker[ticker] = []\n",
    "#     for file_date, documents in filling_documents.items():\n",
    "#         for document in documents:\n",
    "#             if get_document_type(document) == '10-k':\n",
    "#                 ten_ks_by_ticker[ticker].append({\n",
    "#                     'cik': cik_lookup[ticker],\n",
    "#                     'file': document,\n",
    "#                     'file_date': file_date})\n",
    "#\n",
    "#\n",
    "# project_helper.print_ten_k_data(ten_ks_by_ticker[example_ticker][:5], ['cik', 'file', 'file_date'])\n",
    "#"
   ],
   "metadata": {
    "collapsed": false,
    "pycharm": {
     "name": "#%%\n"
    }
   }
  },
  {
   "cell_type": "code",
   "execution_count": 36,
   "outputs": [],
   "source": [
    "# def remove_html_tags(text):\n",
    "#     text = BeautifulSoup(text, 'html.parser').get_text()\n",
    "#\n",
    "#     return text\n",
    "#\n",
    "#\n",
    "# def clean_text(text):\n",
    "#     text = text.lower()\n",
    "#     text = remove_html_tags(text)\n",
    "#\n",
    "#     return text\n",
    "#"
   ],
   "metadata": {
    "collapsed": false,
    "pycharm": {
     "name": "#%%\n"
    }
   }
  },
  {
   "cell_type": "markdown",
   "source": [
    "Using the `clean_text` function, we'll clean up all the documents."
   ],
   "metadata": {
    "collapsed": false
   }
  },
  {
   "cell_type": "code",
   "execution_count": 37,
   "outputs": [],
   "source": [
    "# for ticker, ten_ks in ten_ks_by_ticker.items():\n",
    "#     for ten_k in tqdm(ten_ks, desc='Cleaning {} 10-Ks'.format(ticker), unit='10-K'):\n",
    "#         ten_k['file_clean'] = clean_text(ten_k['file'])\n",
    "#\n",
    "#\n",
    "# project_helper.print_ten_k_data(ten_ks_by_ticker[example_ticker][:5], ['file_clean'])\n",
    "#"
   ],
   "metadata": {
    "collapsed": false,
    "pycharm": {
     "name": "#%%\n"
    }
   }
  },
  {
   "cell_type": "markdown",
   "source": [
    "### Lemmatize\n",
    "With the text cleaned up, it's time to distill the verbs down. Implement the `lemmatize_words` function to lemmatize verbs in the list of words provided."
   ],
   "metadata": {
    "collapsed": false
   }
  },
  {
   "cell_type": "code",
   "execution_count": 38,
   "outputs": [],
   "source": [
    "# from nltk.stem import WordNetLemmatizer\n",
    "# from nltk.corpus import wordnet\n",
    "#\n",
    "#\n",
    "# def lemmatize_words(words):\n",
    "#     \"\"\"\n",
    "#     Lemmatize words\n",
    "#\n",
    "#     Parameters\n",
    "#     ----------\n",
    "#     words : list of str\n",
    "#         List of words\n",
    "#\n",
    "#     Returns\n",
    "#     -------\n",
    "#     lemmatized_words : list of str\n",
    "#         List of lemmatized words\n",
    "#     \"\"\"\n",
    "#\n",
    "#     # TODO: Implement\n",
    "#     lemmatized_words = [WordNetLemmatizer().lemmatize(word, 'v') for word in words]\n",
    "#\n",
    "#     return lemmatized_words\n",
    "#\n",
    "#\n",
    "# project_tests.test_lemmatize_words(lemmatize_words)\n",
    "#"
   ],
   "metadata": {
    "collapsed": false,
    "pycharm": {
     "name": "#%%\n"
    }
   }
  },
  {
   "cell_type": "markdown",
   "source": [
    "With the `lemmatize_words` function implemented, let's lemmatize all the data."
   ],
   "metadata": {
    "collapsed": false
   }
  },
  {
   "cell_type": "code",
   "execution_count": 39,
   "outputs": [],
   "source": [
    "# ten_ks[0][\"file_clean\"] = item_content.get_text(\"\\n\\n\")\n",
    "#"
   ],
   "metadata": {
    "collapsed": false,
    "pycharm": {
     "name": "#%%\n"
    }
   }
  },
  {
   "cell_type": "code",
   "execution_count": 40,
   "outputs": [],
   "source": [
    "# word_pattern = re.compile('\\w+')\n",
    "#\n",
    "# for ticker, ten_ks in ten_ks_by_ticker.items():\n",
    "#     for ten_k in tqdm(ten_ks, desc='Lemmatize {} 10-Ks'.format(ticker), unit='10-K'):\n",
    "#         ten_k['file_lemma'] = lemmatize_words(word_pattern.findall(ten_k['file_clean']))\n",
    "#\n",
    "#\n",
    "# project_helper.print_ten_k_data(ten_ks_by_ticker[example_ticker][:5], ['file_lemma'])\n",
    "#"
   ],
   "metadata": {
    "collapsed": false,
    "pycharm": {
     "name": "#%%\n"
    }
   }
  },
  {
   "cell_type": "markdown",
   "source": [
    "### Remove Stopwords"
   ],
   "metadata": {
    "collapsed": false
   }
  },
  {
   "cell_type": "code",
   "execution_count": 41,
   "outputs": [],
   "source": [
    "# from nltk.corpus import stopwords\n",
    "#\n",
    "#\n",
    "# lemma_english_stopwords = lemmatize_words(stopwords.words('english'))\n",
    "#\n",
    "# for ticker, ten_ks in ten_ks_by_ticker.items():\n",
    "#     for ten_k in tqdm(ten_ks, desc='Remove Stop Words for {} 10-Ks'.format(ticker), unit='10-K'):\n",
    "#         ten_k['file_lemma'] = [word for word in ten_k['file_lemma'] if word not in lemma_english_stopwords]\n",
    "#\n",
    "#\n",
    "# print('Stop Words Removed')\n",
    "# if (\"7A\" in ten_ks[0]['file_lemma']):\n",
    "#     print(\"Element Exists\")\n",
    "#"
   ],
   "metadata": {
    "collapsed": false,
    "pycharm": {
     "name": "#%%\n"
    }
   }
  },
  {
   "cell_type": "code",
   "execution_count": 42,
   "outputs": [],
   "source": [
    "# ten_ks[0]['file_lemma']\n",
    "#"
   ],
   "metadata": {
    "collapsed": false,
    "pycharm": {
     "name": "#%%\n"
    }
   }
  },
  {
   "cell_type": "code",
   "execution_count": 43,
   "outputs": [],
   "source": [
    "# len(ten_ks[0]['file_lemma'])"
   ],
   "metadata": {
    "collapsed": false,
    "pycharm": {
     "name": "#%%\n"
    }
   }
  }
 ],
 "metadata": {
  "kernelspec": {
   "name": "myenv",
   "language": "python",
   "display_name": "Python (base)"
  },
  "language_info": {
   "codemirror_mode": {
    "name": "ipython",
    "version": 3
   },
   "file_extension": ".py",
   "mimetype": "text/x-python",
   "name": "python",
   "nbconvert_exporter": "python",
   "pygments_lexer": "ipython3",
   "version": "3.6.3"
  }
 },
 "nbformat": 4,
 "nbformat_minor": 2
}